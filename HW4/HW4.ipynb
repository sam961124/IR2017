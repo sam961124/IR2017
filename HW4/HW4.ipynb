{
 "cells": [
  {
   "cell_type": "code",
   "execution_count": 1,
   "metadata": {},
   "outputs": [],
   "source": [
    "import numpy as np"
   ]
  },
  {
   "cell_type": "code",
   "execution_count": 2,
   "metadata": {},
   "outputs": [],
   "source": [
    "vec_path = '../HW2/vector/'\n",
    "# dict_size = 12348\n",
    "doc_size = 1095"
   ]
  },
  {
   "cell_type": "code",
   "execution_count": 3,
   "metadata": {},
   "outputs": [],
   "source": [
    "doc_vector = np.load('doc_vector.npy')"
   ]
  },
  {
   "cell_type": "code",
   "execution_count": 4,
   "metadata": {},
   "outputs": [],
   "source": [
    "# C = np.zeros((doc_size, doc_size))\n",
    "# I = np.zeros(doc_size)\n",
    "# for n in range(doc_size):\n",
    "#     for i in range(doc_size):\n",
    "#         C[n][i] = Sim(n, i)\n",
    "#     I[n] = 1\n",
    "C = np.load('C.npy')\n",
    "I = np.load('I.npy')"
   ]
  },
  {
   "cell_type": "code",
   "execution_count": 5,
   "metadata": {},
   "outputs": [],
   "source": [
    "# cosine function\n",
    "def Sim(Docx, Docy):\n",
    "    return (doc_vector[Docx] * doc_vector[Docy]).sum()"
   ]
  },
  {
   "cell_type": "code",
   "execution_count": 9,
   "metadata": {},
   "outputs": [],
   "source": [
    "def find_max_sim(C, I):\n",
    "    max_sim = -1\n",
    "    index_i = -1\n",
    "    index_m = -1\n",
    "    for i in range(doc_size):\n",
    "        if I[i] == 1:\n",
    "            for m in range(doc_size):\n",
    "                if I[m] == 1 and m != i:\n",
    "                    if max_sim < C[i][m]:\n",
    "                        max_sim = C[i][m]\n",
    "                        index_i = i\n",
    "                        index_m = m\n",
    "    return max_sim, index_i, index_m"
   ]
  },
  {
   "cell_type": "code",
   "execution_count": 10,
   "metadata": {
    "scrolled": true
   },
   "outputs": [
    {
     "name": "stdout",
     "output_type": "stream",
     "text": [
      "0%\n",
      "9%\n",
      "18%\n",
      "27%\n",
      "36%\n",
      "45%\n",
      "54%\n",
      "63%\n",
      "73%\n",
      "82%\n",
      "91%\n"
     ]
    }
   ],
   "source": [
    "A = []\n",
    "for k in range(doc_size - 1):\n",
    "    max_sim, i, m = find_max_sim(C, I)\n",
    "    A.append([i ,m])\n",
    "    for j in range(doc_size):\n",
    "        C[i][j] = min(Sim(i, j), Sim(m, j))\n",
    "        C[j][i] = min(Sim(j, i), Sim(j, m))\n",
    "    I[m] = 0\n",
    "    if k % 100 == 0:\n",
    "        print(str(k*100//doc_size) + '%')"
   ]
  },
  {
   "cell_type": "code",
   "execution_count": 13,
   "metadata": {},
   "outputs": [],
   "source": [
    "def write_cluster(cluster_dict, K):\n",
    "    with open(str(K) + '.txt', 'w') as cluster_file:\n",
    "        for key, l in cluster_dict.items():\n",
    "            doc_list = np.sort(l)\n",
    "            for doc_id in doc_list:\n",
    "                cluster_file.write(str(doc_id+1) + '\\n')\n",
    "            cluster_file.write('\\n')"
   ]
  },
  {
   "cell_type": "code",
   "execution_count": 14,
   "metadata": {},
   "outputs": [],
   "source": [
    "cluster_dict = {}\n",
    "for i in range(doc_size):\n",
    "    cluster_dict[str(i)] = [i]"
   ]
  },
  {
   "cell_type": "code",
   "execution_count": 15,
   "metadata": {},
   "outputs": [],
   "source": [
    "for i, m in A:\n",
    "    temp = cluster_dict[str(m)]\n",
    "    cluster_dict.pop(str(m), None)\n",
    "    cluster_dict[str(i)] += temp\n",
    "#     if len(cluster_dict) == 20:\n",
    "#         write_cluster(cluster_dict, 20)\n",
    "#     elif len(cluster_dict) == 13:\n",
    "#         write_cluster(cluster_dict, 13)\n",
    "#     elif len(cluster_dict) == 8:\n",
    "#         write_cluster(cluster_dict, 8)"
   ]
  }
 ],
 "metadata": {
  "kernelspec": {
   "display_name": "Python 3",
   "language": "python",
   "name": "python3"
  },
  "language_info": {
   "codemirror_mode": {
    "name": "ipython",
    "version": 3
   },
   "file_extension": ".py",
   "mimetype": "text/x-python",
   "name": "python",
   "nbconvert_exporter": "python",
   "pygments_lexer": "ipython3",
   "version": "3.6.3"
  }
 },
 "nbformat": 4,
 "nbformat_minor": 2
}
