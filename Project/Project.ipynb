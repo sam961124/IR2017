{
 "cells": [
  {
   "cell_type": "code",
   "execution_count": 40,
   "metadata": {},
   "outputs": [],
   "source": [
    "from keras import backend as K\n",
    "from keras.layers import Input, LSTM, RepeatVector, Embedding, TimeDistributed, Dense\n",
    "from keras.layers import Dropout, BatchNormalization\n",
    "from keras.models import Model, Sequential\n",
    "from keras.preprocessing.text import Tokenizer, text_to_word_sequence\n",
    "from keras.preprocessing.sequence import pad_sequences\n",
    "from keras.callbacks import EarlyStopping, ModelCheckpoint\n",
    "import h5py\n",
    "from keras.models import load_model\n",
    "import numpy as np\n",
    "import pandas as pd\n",
    "import nltk"
   ]
  },
  {
   "cell_type": "code",
   "execution_count": 207,
   "metadata": {
    "collapsed": true
   },
   "outputs": [],
   "source": [
    "doc_path = '../HW3/IRTM/'\n",
    "num_doc = 1095\n",
    "MAX_NUM_WORDS = 7000\n",
    "MAX_SENTENSE_LENGTH = 66\n",
    "MAX_DOC_LENGTH = 28\n",
    "VALID_SIZE = 200\n",
    "WORD_EMBEDDING_DIM = 250"
   ]
  },
  {
   "cell_type": "code",
   "execution_count": 208,
   "metadata": {
    "collapsed": true
   },
   "outputs": [],
   "source": [
    "all_doc = [[] for i in range(num_doc)]\n",
    "for i in range(num_doc):\n",
    "    doc_file = open(doc_path + str(i+1) + '.txt', 'r')\n",
    "    article = doc_file.read()\n",
    "    all_doc[i] = article\n",
    "all_doc = np.array(all_doc)\n",
    "tokenizer = Tokenizer(num_words=MAX_NUM_WORDS)\n",
    "tokenizer.fit_on_texts(all_doc)"
   ]
  },
  {
   "cell_type": "code",
   "execution_count": 209,
   "metadata": {},
   "outputs": [],
   "source": [
    "temp = tokenizer.texts_to_sequences(all_doc)\n",
    "t_doc = tokenizer.sequences_to_matrix(temp, mode='count')\n",
    "t_doc /= MAX_NUM_WORDS"
   ]
  },
  {
   "cell_type": "code",
   "execution_count": 210,
   "metadata": {},
   "outputs": [],
   "source": [
    "# training_doc = []\n",
    "# for i in range(num_doc):\n",
    "#     s_temp = []\n",
    "#     sentenses = nltk.sent_tokenize(all_doc[i])\n",
    "#     temp = tokenizer.texts_to_sequences(sentenses)\n",
    "#     s_temp = pad_sequences(temp, maxlen=MAX_SENTENSE_LENGTH)\n",
    "#     training_doc.append(s_temp)"
   ]
  },
  {
   "cell_type": "code",
   "execution_count": 211,
   "metadata": {
    "collapsed": true
   },
   "outputs": [],
   "source": [
    "# t_doc = pad_sequences(training_doc, maxlen=MAX_DOC_LENGTH)"
   ]
  },
  {
   "cell_type": "code",
   "execution_count": 212,
   "metadata": {},
   "outputs": [],
   "source": [
    "np.random.seed(5)\n",
    "indices = np.random.permutation(len(t_doc))\n",
    "x_train = t_doc[indices]"
   ]
  },
  {
   "cell_type": "code",
   "execution_count": 228,
   "metadata": {
    "collapsed": true
   },
   "outputs": [],
   "source": [
    "latent_dim = 15\n",
    "dnn_encode = [250, 125, 13]\n",
    "dnn_decode = [250, 500]"
   ]
  },
  {
   "cell_type": "code",
   "execution_count": 229,
   "metadata": {},
   "outputs": [],
   "source": [
    "inputs = Input(shape=(MAX_NUM_WORDS,))\n",
    "encoded = Dense(500, activation='relu')(inputs)\n",
    "encoded = BatchNormalization()(encoded)\n",
    "encoded = Dropout(0.3)(encoded)\n",
    "for units in dnn_encode:\n",
    "    encoded = Dense(units, activation='relu')(encoded)\n",
    "    encoded = BatchNormalization()(encoded)\n",
    "    encoded = Dropout(0.3)(encoded)\n",
    "encoder = Model(inputs, encoded)\n",
    "\n",
    "decoded = Dense(125, activation='relu')(encoded)\n",
    "decoded = BatchNormalization()(decoded)\n",
    "decoded = Dropout(0.3)(decoded)\n",
    "for units in dnn_decode:\n",
    "    decoded = Dense(units, activation='relu')(decoded)\n",
    "    decoded = BatchNormalization()(decoded)\n",
    "    decoded = Dropout(0.3)(decoded)\n",
    "decoded = Dense(MAX_NUM_WORDS, activation='softmax')(decoded)\n",
    "autoencoder = Model(inputs, decoded)"
   ]
  },
  {
   "cell_type": "code",
   "execution_count": 230,
   "metadata": {},
   "outputs": [],
   "source": [
    "# inputs = Input(shape=(MAX_DOC_LENGTH, MAX_SENTENSE_LENGTH))\n",
    "# embeddings = Embedding(MAX_NUM_WORDS, WORD_EMBEDDING_DIM)(inputs)\n",
    "# encoded = TimeDistributed(LSTM(latent_dim))(embeddings)\n",
    "# encoded = LSTM(latent_dim)(encoded)\n",
    "# encoder = Model(inputs, encoded)\n",
    "# decoded = RepeatVector(MAX_DOC_LENGTH)(encoded)\n",
    "# decoded = LSTM(MAX_SENTENSE_LENGTH, return_sequences=True)(decoded)\n",
    "# # decoded = Dense(vocab_size, activation='softmax')(decoded)\n",
    "# sequence_autoencoder = Model(inputs, decoded)\n",
    "# sequence_autoencoder.summary()"
   ]
  },
  {
   "cell_type": "code",
   "execution_count": 231,
   "metadata": {},
   "outputs": [
    {
     "name": "stdout",
     "output_type": "stream",
     "text": [
      "Epoch 1/100\n",
      "1095/1095 [==============================] - 11s - loss: 0.5383 - acc: 0.3790    \n",
      "Epoch 2/100\n",
      "1095/1095 [==============================] - 4s - loss: 0.4910 - acc: 0.6594     \n",
      "Epoch 3/100\n",
      "1095/1095 [==============================] - 4s - loss: 0.4751 - acc: 0.8594     \n",
      "Epoch 4/100\n",
      "1095/1095 [==============================] - 4s - loss: 0.4714 - acc: 0.8986     \n",
      "Epoch 5/100\n",
      "1095/1095 [==============================] - 4s - loss: 0.4701 - acc: 0.9041     \n",
      "Epoch 6/100\n",
      "1095/1095 [==============================] - 4s - loss: 0.4673 - acc: 0.8986     \n",
      "Epoch 7/100\n",
      "1095/1095 [==============================] - 4s - loss: 0.4656 - acc: 0.9078     \n",
      "Epoch 8/100\n",
      "1095/1095 [==============================] - 4s - loss: 0.4640 - acc: 0.9087     \n",
      "Epoch 9/100\n",
      "1095/1095 [==============================] - 4s - loss: 0.4641 - acc: 0.9032     \n",
      "Epoch 10/100\n",
      "1095/1095 [==============================] - 4s - loss: 0.4625 - acc: 0.9105     \n",
      "Epoch 11/100\n",
      "1095/1095 [==============================] - 4s - loss: 0.4613 - acc: 0.9096     \n",
      "Epoch 12/100\n",
      "1095/1095 [==============================] - 4s - loss: 0.4597 - acc: 0.9032     \n",
      "Epoch 13/100\n",
      "1095/1095 [==============================] - 4s - loss: 0.4591 - acc: 0.9087     \n",
      "Epoch 14/100\n",
      "1095/1095 [==============================] - 4s - loss: 0.4580 - acc: 0.9114     \n",
      "Epoch 15/100\n",
      "1095/1095 [==============================] - 4s - loss: 0.4573 - acc: 0.9105     \n",
      "Epoch 16/100\n",
      "1095/1095 [==============================] - 4s - loss: 0.4569 - acc: 0.9105     \n",
      "Epoch 17/100\n",
      "1095/1095 [==============================] - 4s - loss: 0.4563 - acc: 0.9151     \n",
      "Epoch 18/100\n",
      "1095/1095 [==============================] - 4s - loss: 0.4555 - acc: 0.9160     \n",
      "Epoch 19/100\n",
      "1095/1095 [==============================] - 4s - loss: 0.4546 - acc: 0.9151     \n",
      "Epoch 20/100\n",
      "1095/1095 [==============================] - 4s - loss: 0.4542 - acc: 0.9142     \n",
      "Epoch 21/100\n",
      "1095/1095 [==============================] - 4s - loss: 0.4539 - acc: 0.9151     \n",
      "Epoch 22/100\n",
      "1095/1095 [==============================] - 4s - loss: 0.4538 - acc: 0.9123     \n",
      "Epoch 23/100\n",
      "1095/1095 [==============================] - 4s - loss: 0.4534 - acc: 0.9151     \n",
      "Epoch 24/100\n",
      "1095/1095 [==============================] - 4s - loss: 0.4530 - acc: 0.9178     \n",
      "Epoch 25/100\n",
      "1095/1095 [==============================] - 4s - loss: 0.4522 - acc: 0.9151     \n",
      "Epoch 26/100\n",
      "1095/1095 [==============================] - 4s - loss: 0.4517 - acc: 0.9142     \n",
      "Epoch 27/100\n",
      "1095/1095 [==============================] - 4s - loss: 0.4505 - acc: 0.9151     \n",
      "Epoch 28/100\n",
      "1095/1095 [==============================] - 4s - loss: 0.4504 - acc: 0.9151     \n",
      "Epoch 29/100\n",
      "1095/1095 [==============================] - 4s - loss: 0.4499 - acc: 0.9142     \n",
      "Epoch 30/100\n",
      "1095/1095 [==============================] - 4s - loss: 0.4493 - acc: 0.9160     \n",
      "Epoch 31/100\n",
      "1095/1095 [==============================] - 4s - loss: 0.4489 - acc: 0.9187     \n",
      "Epoch 32/100\n",
      "1095/1095 [==============================] - 4s - loss: 0.4495 - acc: 0.9151     \n",
      "Epoch 33/100\n",
      "1095/1095 [==============================] - 4s - loss: 0.4486 - acc: 0.9151     \n",
      "Epoch 34/100\n",
      "1095/1095 [==============================] - 4s - loss: 0.4489 - acc: 0.9178     \n",
      "Epoch 35/100\n",
      "1095/1095 [==============================] - 4s - loss: 0.4486 - acc: 0.9178     \n",
      "Epoch 36/100\n",
      "1095/1095 [==============================] - 4s - loss: 0.4481 - acc: 0.9178     \n",
      "Epoch 37/100\n",
      "1095/1095 [==============================] - 4s - loss: 0.4485 - acc: 0.9169     \n",
      "Epoch 38/100\n",
      "1095/1095 [==============================] - 4s - loss: 0.4480 - acc: 0.9160     \n",
      "Epoch 39/100\n",
      "1095/1095 [==============================] - 4s - loss: 0.4480 - acc: 0.9160     \n",
      "Epoch 40/100\n",
      "1095/1095 [==============================] - 4s - loss: 0.4472 - acc: 0.9178     \n",
      "Epoch 41/100\n",
      "1095/1095 [==============================] - 4s - loss: 0.4464 - acc: 0.9178     \n",
      "Epoch 42/100\n",
      "1095/1095 [==============================] - 4s - loss: 0.4470 - acc: 0.9187     \n",
      "Epoch 43/100\n",
      "1095/1095 [==============================] - 4s - loss: 0.4462 - acc: 0.9178     \n",
      "Epoch 44/100\n",
      "1095/1095 [==============================] - 4s - loss: 0.4461 - acc: 0.9187     \n",
      "Epoch 45/100\n",
      "1095/1095 [==============================] - 4s - loss: 0.4462 - acc: 0.9178     \n",
      "Epoch 46/100\n",
      "1095/1095 [==============================] - 4s - loss: 0.4458 - acc: 0.9187     \n",
      "Epoch 47/100\n",
      "1095/1095 [==============================] - 4s - loss: 0.4459 - acc: 0.9187     \n",
      "Epoch 48/100\n",
      "1095/1095 [==============================] - 4s - loss: 0.4462 - acc: 0.9187     \n",
      "Epoch 49/100\n",
      "1095/1095 [==============================] - 4s - loss: 0.4461 - acc: 0.9178     \n",
      "Epoch 50/100\n",
      "1095/1095 [==============================] - 4s - loss: 0.4455 - acc: 0.9178     \n",
      "Epoch 51/100\n",
      "1095/1095 [==============================] - 4s - loss: 0.4449 - acc: 0.9178     \n",
      "Epoch 52/100\n",
      "1095/1095 [==============================] - 4s - loss: 0.4449 - acc: 0.9187     \n",
      "Epoch 53/100\n",
      "1095/1095 [==============================] - 4s - loss: 0.4458 - acc: 0.9169     \n",
      "Epoch 54/100\n",
      "1095/1095 [==============================] - 4s - loss: 0.4450 - acc: 0.9187     \n",
      "Epoch 55/100\n",
      "1095/1095 [==============================] - 4s - loss: 0.4451 - acc: 0.9187     \n",
      "Epoch 56/100\n",
      "1095/1095 [==============================] - 4s - loss: 0.4448 - acc: 0.9187     \n",
      "Epoch 57/100\n",
      "1095/1095 [==============================] - 4s - loss: 0.4441 - acc: 0.9178     \n",
      "Epoch 58/100\n",
      "1095/1095 [==============================] - 4s - loss: 0.4439 - acc: 0.9178     \n",
      "Epoch 59/100\n",
      "1095/1095 [==============================] - 4s - loss: 0.4444 - acc: 0.9178     \n",
      "Epoch 60/100\n",
      "1095/1095 [==============================] - 4s - loss: 0.4438 - acc: 0.9187     \n",
      "Epoch 61/100\n",
      "1095/1095 [==============================] - 4s - loss: 0.4438 - acc: 0.9187     \n",
      "Epoch 62/100\n",
      "1095/1095 [==============================] - 4s - loss: 0.4443 - acc: 0.9178     \n",
      "Epoch 63/100\n",
      "1095/1095 [==============================] - 4s - loss: 0.4440 - acc: 0.9187     \n",
      "Epoch 64/100\n",
      "1095/1095 [==============================] - 4s - loss: 0.4440 - acc: 0.9187     \n"
     ]
    },
    {
     "data": {
      "text/plain": [
       "<keras.callbacks.History at 0x1bb218d6d68>"
      ]
     },
     "execution_count": 231,
     "metadata": {},
     "output_type": "execute_result"
    }
   ],
   "source": [
    "callbacks = []\n",
    "callbacks.append(ModelCheckpoint('model.h5', monitor='acc', \n",
    "                                 save_best_only=True, period=1))\n",
    "callbacks.append(EarlyStopping(monitor='loss', patience=3))\n",
    "autoencoder.compile(loss='categorical_crossentropy', optimizer='adam', metrics=['accuracy'])\n",
    "autoencoder.fit(x_train, x_train, epochs=100, batch_size=5, callbacks=callbacks)"
   ]
  },
  {
   "cell_type": "code",
   "execution_count": 233,
   "metadata": {
    "collapsed": true
   },
   "outputs": [],
   "source": [
    "from sklearn.metrics.pairwise import cosine_similarity"
   ]
  },
  {
   "cell_type": "code",
   "execution_count": 234,
   "metadata": {},
   "outputs": [
    {
     "name": "stdout",
     "output_type": "stream",
     "text": [
      "_________________________________________________________________\n",
      "Layer (type)                 Output Shape              Param #   \n",
      "=================================================================\n",
      "input_16 (InputLayer)        (None, 7000)              0         \n",
      "_________________________________________________________________\n",
      "dense_160 (Dense)            (None, 500)               3500500   \n",
      "_________________________________________________________________\n",
      "batch_normalization_138 (Bat (None, 500)               2000      \n",
      "_________________________________________________________________\n",
      "dropout_138 (Dropout)        (None, 500)               0         \n",
      "_________________________________________________________________\n",
      "dense_161 (Dense)            (None, 250)               125250    \n",
      "_________________________________________________________________\n",
      "batch_normalization_139 (Bat (None, 250)               1000      \n",
      "_________________________________________________________________\n",
      "dropout_139 (Dropout)        (None, 250)               0         \n",
      "_________________________________________________________________\n",
      "dense_162 (Dense)            (None, 125)               31375     \n",
      "_________________________________________________________________\n",
      "batch_normalization_140 (Bat (None, 125)               500       \n",
      "_________________________________________________________________\n",
      "dropout_140 (Dropout)        (None, 125)               0         \n",
      "_________________________________________________________________\n",
      "dense_163 (Dense)            (None, 13)                1638      \n",
      "_________________________________________________________________\n",
      "batch_normalization_141 (Bat (None, 13)                52        \n",
      "_________________________________________________________________\n",
      "dropout_141 (Dropout)        (None, 13)                0         \n",
      "_________________________________________________________________\n",
      "dense_164 (Dense)            (None, 125)               1750      \n",
      "_________________________________________________________________\n",
      "batch_normalization_142 (Bat (None, 125)               500       \n",
      "_________________________________________________________________\n",
      "dropout_142 (Dropout)        (None, 125)               0         \n",
      "_________________________________________________________________\n",
      "dense_165 (Dense)            (None, 250)               31500     \n",
      "_________________________________________________________________\n",
      "batch_normalization_143 (Bat (None, 250)               1000      \n",
      "_________________________________________________________________\n",
      "dropout_143 (Dropout)        (None, 250)               0         \n",
      "_________________________________________________________________\n",
      "dense_166 (Dense)            (None, 500)               125500    \n",
      "_________________________________________________________________\n",
      "batch_normalization_144 (Bat (None, 500)               2000      \n",
      "_________________________________________________________________\n",
      "dropout_144 (Dropout)        (None, 500)               0         \n",
      "_________________________________________________________________\n",
      "dense_167 (Dense)            (None, 7000)              3507000   \n",
      "=================================================================\n",
      "Total params: 7,331,565\n",
      "Trainable params: 7,328,039\n",
      "Non-trainable params: 3,526\n",
      "_________________________________________________________________\n"
     ]
    }
   ],
   "source": [
    "aut = load_model('model.h5')\n",
    "aut.summary()"
   ]
  },
  {
   "cell_type": "code",
   "execution_count": 236,
   "metadata": {
    "collapsed": true
   },
   "outputs": [],
   "source": [
    "f = K.function([aut.layers[0].input, K.learning_phase()], [aut.layers[10].output])"
   ]
  },
  {
   "cell_type": "code",
   "execution_count": 253,
   "metadata": {},
   "outputs": [],
   "source": [
    "a = (f([t_doc[323].reshape(1, 7000), 0])[0])\n",
    "b = (f([t_doc[10].reshape(1, 7000), 0])[0])"
   ]
  },
  {
   "cell_type": "code",
   "execution_count": 254,
   "metadata": {},
   "outputs": [
    {
     "data": {
      "text/plain": [
       "array([[ 0.94114035]], dtype=float32)"
      ]
     },
     "execution_count": 254,
     "metadata": {},
     "output_type": "execute_result"
    }
   ],
   "source": [
    "cosine_similarity(a, b)"
   ]
  },
  {
   "cell_type": "code",
   "execution_count": 257,
   "metadata": {
    "collapsed": true
   },
   "outputs": [],
   "source": [
    "from sklearn.manifold import TSNE"
   ]
  },
  {
   "cell_type": "code",
   "execution_count": 286,
   "metadata": {},
   "outputs": [],
   "source": [
    "doc_class = []\n",
    "training_file = pd.read_table('../HW3/training.txt', header=None)\n",
    "for i in range(13):\n",
    "    temp = training_file[0][i].split(' ')\n",
    "    doc_class.append(temp[1:-1])\n",
    "doc_class = np.array(doc_class, dtype=int)"
   ]
  },
  {
   "cell_type": "code",
   "execution_count": 287,
   "metadata": {},
   "outputs": [
    {
     "data": {
      "text/plain": [
       "array([[  11,   19,   29,  113,  115,  169,  278,  301,  316,  317,  321,\n",
       "         324,  325,  338,  341],\n",
       "       [   1,    2,    3,    4,    5,    6,    7,    8,    9,   10,   12,\n",
       "          13,   14,   15,   16],\n",
       "       [ 813,  817,  818,  819,  820,  821,  822,  824,  825,  826,  828,\n",
       "         829,  830,  832,  833],\n",
       "       [ 635,  680,  683,  702,  704,  705,  706,  708,  709,  719,  720,\n",
       "         722,  723,  724,  726],\n",
       "       [ 646,  751,  781,  794,  798,  799,  801,  812,  815,  823,  831,\n",
       "         839,  840,  841,  842],\n",
       "       [ 995,  998,  999, 1003, 1005, 1006, 1007, 1009, 1011, 1012, 1013,\n",
       "        1014, 1015, 1016, 1019],\n",
       "       [ 700,  730,  731,  732,  733,  735,  740,  744,  752,  754,  755,\n",
       "         756,  757,  759,  760],\n",
       "       [ 262,  296,  304,  308,  337,  397,  401,  443,  445,  450,  466,\n",
       "         480,  513,  533,  534],\n",
       "       [ 130,  131,  132,  133,  134,  135,  136,  137,  138,  139,  140,\n",
       "         141,  142,  143,  145],\n",
       "       [  31,   44,   70,   83,   86,   92,  100,  102,  305,  309,  315,\n",
       "         320,  326,  327,  328],\n",
       "       [ 240,  241,  243,  244,  245,  248,  250,  254,  255,  256,  258,\n",
       "         260,  275,  279,  295],\n",
       "       [ 535,  542,  571,  573,  574,  575,  576,  578,  581,  582,  583,\n",
       "         584,  585,  586,  588],\n",
       "       [ 485,  520,  523,  526,  527,  529,  530,  531,  532,  536,  537,\n",
       "         538,  539,  540,  541]])"
      ]
     },
     "execution_count": 287,
     "metadata": {},
     "output_type": "execute_result"
    }
   ],
   "source": [
    "doc_class"
   ]
  },
  {
   "cell_type": "code",
   "execution_count": 288,
   "metadata": {
    "collapsed": true
   },
   "outputs": [],
   "source": [
    "labels = [1, 2, 3, 4, 5, 6, 7, 8, 9, 10, 11 ,12, 13]"
   ]
  },
  {
   "cell_type": "code",
   "execution_count": 259,
   "metadata": {
    "collapsed": true
   },
   "outputs": [],
   "source": [
    "X = []\n",
    "for i in range(len(t_doc)):\n",
    "    temp = f([t_doc[i].reshape(1,7000), 0])[0]\n",
    "    X.append(temp)"
   ]
  },
  {
   "cell_type": "code",
   "execution_count": 263,
   "metadata": {},
   "outputs": [],
   "source": [
    "X = np.array(X)"
   ]
  },
  {
   "cell_type": "code",
   "execution_count": 273,
   "metadata": {},
   "outputs": [
    {
     "name": "stdout",
     "output_type": "stream",
     "text": [
      "Computing t-SNE embedding\n"
     ]
    }
   ],
   "source": [
    "import matplotlib.pyplot as plt\n",
    "# t-SNE embedding of the digits dataset\n",
    "print(\"Computing t-SNE embedding\")           \n",
    "tsne = TSNE(n_components=2, init='pca', random_state=0)\n",
    "X_tsne = tsne.fit_transform(X.reshape(1095, 13))"
   ]
  },
  {
   "cell_type": "code",
   "execution_count": 298,
   "metadata": {},
   "outputs": [
    {
     "data": {
      "image/png": "[encoded data removed]",
      "text/plain": [
       "<matplotlib.figure.Figure at 0x1bb2e89b240>"
      ]
     },
     "metadata": {},
     "output_type": "display_data"
    }
   ],
   "source": [
    "colors = ['#FFB7DD', '#FFBB66', '#FFFF33', '#BBFF00', '#CC0000', '#33CCFF', '#9999FF',\n",
    "'#00AA55', '#E8CCFF', '#770077', '#FF7744', '#DDDDDD', '#444444']\n",
    "for i, c, label in zip(doc_class, colors, labels):\n",
    "    plt.scatter(X_tsne[i-1, 0], X_tsne[i-1, 1], c=c, label=label)\n",
    "plt.show()"
   ]
  },
  {
   "cell_type": "code",
   "execution_count": null,
   "metadata": {
    "collapsed": true
   },
   "outputs": [],
   "source": []
  }
 ],
 "metadata": {
  "kernelspec": {
   "display_name": "Python 3",
   "language": "python",
   "name": "python3"
  },
  "language_info": {
   "codemirror_mode": {
    "name": "ipython",
    "version": 3
   },
   "file_extension": ".py",
   "mimetype": "text/x-python",
   "name": "python",
   "nbconvert_exporter": "python",
   "pygments_lexer": "ipython3",
   "version": "3.6.2"
  }
 },
 "nbformat": 4,
 "nbformat_minor": 2
}
