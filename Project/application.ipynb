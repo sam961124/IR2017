{
 "cells": [
  {
   "cell_type": "code",
   "execution_count": 1,
   "metadata": {},
   "outputs": [],
   "source": [
    "import numpy as np\n",
    "from sklearn.metrics.pairwise import cosine_similarity\n",
    "import tkinter as tk"
   ]
  },
  {
   "cell_type": "code",
   "execution_count": 2,
   "metadata": {},
   "outputs": [],
   "source": [
    "X = np.load('X.npy')\n",
    "movie_names = np.load('movie_names.npy')\n",
    "movie_size = len(X)"
   ]
  },
  {
   "cell_type": "code",
   "execution_count": 6,
   "metadata": {},
   "outputs": [
    {
     "data": {
      "text/plain": [
       "array([ 0.        ,  0.01902824,  0.97257459,  0.13655202,  0.        ,\n",
       "        0.        ,  0.        ,  0.        ,  0.        ,  0.        ,\n",
       "        0.        ,  0.        ,  0.41356224,  0.27764958,  1.31009948,\n",
       "        1.10949969,  0.        ,  1.42711222,  0.09726872,  0.01082698,\n",
       "        0.        ,  0.        ,  0.        ,  0.        ,  0.        ,\n",
       "        0.        ,  1.        ,  0.        ,  0.        ,  0.        ,\n",
       "        1.        ,  0.        ,  0.        ,  0.        ,  0.        ,\n",
       "        0.        ,  0.        ,  1.        ,  0.        ])"
      ]
     },
     "execution_count": 6,
     "metadata": {},
     "output_type": "execute_result"
    }
   ],
   "source": [
    "X[0]"
   ]
  },
  {
   "cell_type": "code",
   "execution_count": 103,
   "metadata": {},
   "outputs": [],
   "source": [
    "def get_recommend():\n",
    "    count = 3\n",
    "    movie = entry1.get()\n",
    "    for label in win.grid_slaves():\n",
    "        if int(label.grid_info()['row']) > 2:\n",
    "            label.grid_forget()\n",
    "    if movie not in movie_names:\n",
    "        label = tk.Label(win, text=\"找不到這部電影\", font=('Arial', 12))\n",
    "        label.grid(row=count, column=1, sticky=tk.W)\n",
    "        return\n",
    "    movie_id = np.where(movie_names == movie)[0][0]\n",
    "    movie_vec = X[movie_id]\n",
    "    scores = []\n",
    "    for i in range(movie_size):\n",
    "        score = cosine_similarity(movie_vec.reshape(1, -1), X[i].reshape(1, -1))\n",
    "        scores.append(score[0])\n",
    "    rank_names = np.argsort(np.array(scores).flatten())\n",
    "    rank_scores = np.sort(np.array(scores).flatten())\n",
    "    for name in movie_names[rank_names[-6:-1]]:\n",
    "        label = tk.Label(win, text=name, font=('Arial', 12))\n",
    "        label.grid(row=count, column=1, sticky=tk.W)\n",
    "        count += 1\n",
    "    return"
   ]
  },
  {
   "cell_type": "code",
   "execution_count": 104,
   "metadata": {},
   "outputs": [],
   "source": [
    "win = tk.Tk()\n",
    "win.title('電影推薦系統')\n",
    "win.geometry('300x300+500+300')\n",
    "label1 = tk.Label(win, text=\"電影名稱：\", font=('Arial', 12), height=2) \n",
    "label1.grid(row=0, column=0, padx=2, pady=15)\n",
    "entry1 = tk.Entry(win)\n",
    "entry1.grid(row=0, column=1, padx=5, pady=15)\n",
    "movie = entry1.get()\n",
    "button = tk.Button(win, text='Search',\n",
    "                   command=get_recommend).grid(row=1, column=1, sticky=tk.E)\n",
    "label1 = tk.Label(win, text=\"推薦結果：\", font=('Arial', 12), width=12, height=2) \n",
    "label1.grid(row=2, column=0, padx=5, pady=5)\n",
    "win.mainloop()"
   ]
  },
  {
   "cell_type": "code",
   "execution_count": null,
   "metadata": {},
   "outputs": [],
   "source": []
  }
 ],
 "metadata": {
  "kernelspec": {
   "display_name": "Python 3",
   "language": "python",
   "name": "python3"
  },
  "language_info": {
   "codemirror_mode": {
    "name": "ipython",
    "version": 3
   },
   "file_extension": ".py",
   "mimetype": "text/x-python",
   "name": "python",
   "nbconvert_exporter": "python",
   "pygments_lexer": "ipython3",
   "version": "3.6.3"
  }
 },
 "nbformat": 4,
 "nbformat_minor": 2
}
