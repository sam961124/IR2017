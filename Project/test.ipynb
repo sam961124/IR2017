{
 "cells": [
  {
   "cell_type": "code",
   "execution_count": 19,
   "metadata": {},
   "outputs": [],
   "source": [
    "import numpy as np\n",
    "from sklearn.metrics.pairwise import cosine_similarity"
   ]
  },
  {
   "cell_type": "code",
   "execution_count": 20,
   "metadata": {},
   "outputs": [],
   "source": [
    "X = np.load('new_X.npy')\n",
    "movie_names = np.load('new_names.npy')\n",
    "movie_cates = np.load('new_cate.npy')\n",
    "movie_size = len(X)"
   ]
  },
  {
   "cell_type": "code",
   "execution_count": 21,
   "metadata": {},
   "outputs": [],
   "source": [
    "def get_recommend(movie_id, X):\n",
    "    movie_vec = X[movie_id]\n",
    "    scores = []\n",
    "    for i in range(movie_size):\n",
    "        score = cosine_similarity(movie_vec.reshape(1, -1), X[i].reshape(1, -1))\n",
    "        scores.append(score[0])\n",
    "    rank_names = np.argsort(np.array(scores).flatten())\n",
    "    rank_scores = np.sort(np.array(scores).flatten())\n",
    "    return movie_names[rank_names[-20:]], rank_scores[-20:]"
   ]
  },
  {
   "cell_type": "code",
   "execution_count": 13,
   "metadata": {},
   "outputs": [],
   "source": [
    "# adjust cates ratio\n",
    "adjust_X = np.concatenate((X[:, :20], 0.5*movie_cates), axis=1)"
   ]
  },
  {
   "cell_type": "code",
   "execution_count": 14,
   "metadata": {},
   "outputs": [],
   "source": [
    "# just use cates\n",
    "adjust_X = movie_cates"
   ]
  },
  {
   "cell_type": "code",
   "execution_count": 23,
   "metadata": {},
   "outputs": [
    {
     "data": {
      "text/plain": [
       "(array(['鐘點戰', '星際效應', '出神入化', '厲陰宅2', '奪天書', '醉後大丈夫', '變形金剛', '金牌特務',\n",
       "        '我是傳奇', '迷霧驚魂', '獅子王', '猩球崛起', '世界大戰', '王牌天神', '顫慄黑影', '極樂世界',\n",
       "        '刺激1995', '陰兒房2', '歡迎光臨死亡小鎮', '牠'],\n",
       "       dtype='<U34'),\n",
       " array([ 0.93021194,  0.93082215,  0.93158211,  0.93178631,  0.93238617,\n",
       "         0.93304374,  0.93325576,  0.93393524,  0.93407763,  0.93786404,\n",
       "         0.93806946,  0.9382203 ,  0.93871746,  0.94284837,  0.94706251,\n",
       "         0.94736662,  0.95062377,  0.95229664,  0.95542647,  1.        ]))"
      ]
     },
     "execution_count": 23,
     "metadata": {},
     "output_type": "execute_result"
    }
   ],
   "source": [
    "get_recommend(0, X)"
   ]
  },
  {
   "cell_type": "code",
   "execution_count": null,
   "metadata": {},
   "outputs": [],
   "source": []
  }
 ],
 "metadata": {
  "kernelspec": {
   "display_name": "Python 3",
   "language": "python",
   "name": "python3"
  },
  "language_info": {
   "codemirror_mode": {
    "name": "ipython",
    "version": 3
   },
   "file_extension": ".py",
   "mimetype": "text/x-python",
   "name": "python",
   "nbconvert_exporter": "python",
   "pygments_lexer": "ipython3",
   "version": "3.6.3"
  }
 },
 "nbformat": 4,
 "nbformat_minor": 2
}
