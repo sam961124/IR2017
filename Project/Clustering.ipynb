{
 "cells": [
  {
   "cell_type": "code",
   "execution_count": 1,
   "metadata": {},
   "outputs": [
    {
     "name": "stderr",
     "output_type": "stream",
     "text": [
      "Using TensorFlow backend.\n"
     ]
    }
   ],
   "source": [
    "from keras import backend as K\n",
    "from keras.layers import Input, LSTM, RepeatVector, Embedding, TimeDistributed, Dense\n",
    "from keras.layers import Dropout, BatchNormalization, Multiply\n",
    "from keras.models import Model, Sequential\n",
    "from keras.preprocessing.text import Tokenizer, text_to_word_sequence\n",
    "from keras.preprocessing.sequence import pad_sequences\n",
    "from keras.callbacks import EarlyStopping, ModelCheckpoint\n",
    "import h5py\n",
    "from keras.models import load_model\n",
    "import numpy as np\n",
    "import pandas as pd\n",
    "import nltk\n",
    "from nltk.corpus import stopwords\n",
    "from sklearn.metrics.pairwise import cosine_similarity\n",
    "import tkinter as tk"
   ]
  },
  {
   "cell_type": "code",
   "execution_count": 18,
   "metadata": {},
   "outputs": [],
   "source": [
    "movie_path = 'imdbSynopsis_v2.csv'\n",
    "name_path = 'names.csv'\n",
    "MAX_NUM_WORDS = 2000"
   ]
  },
  {
   "cell_type": "code",
   "execution_count": 19,
   "metadata": {},
   "outputs": [],
   "source": [
    "names_file = pd.read_csv(name_path, encoding='cp950', header=None)\n",
    "movies_file = pd.read_csv(movie_path, encoding='latin1', header=None)\n",
    "movie_size = len(movies_file)"
   ]
  },
  {
   "cell_type": "code",
   "execution_count": 38,
   "metadata": {},
   "outputs": [],
   "source": [
    "# cate_dict = np.load('category.npy')"
   ]
  },
  {
   "cell_type": "code",
   "execution_count": 43,
   "metadata": {},
   "outputs": [],
   "source": [
    "# temp_cate = np.zeros((movie_size, 19))\n",
    "# count = 0\n",
    "# for i in movies_file[3]:\n",
    "#     c_list = i.split(',')\n",
    "#     for t in c_list:\n",
    "#         temp_cate[count][np.argwhere(cate_dict == t).flatten()] = 1\n",
    "#     count += 1"
   ]
  },
  {
   "cell_type": "code",
   "execution_count": 46,
   "metadata": {},
   "outputs": [],
   "source": [
    "# np.save('new_cate', temp_cate)"
   ]
  },
  {
   "cell_type": "code",
   "execution_count": 20,
   "metadata": {},
   "outputs": [],
   "source": [
    "movie_long_intro = np.array(movies_file[4].values, dtype=str)\n",
    "movie_story = np.array(movies_file[5].values, dtype=str)\n",
    "movie_cate = np.load('movie_category.npy')\n",
    "movie_names = np.array(names_file[0].values, dtype=str)"
   ]
  },
  {
   "cell_type": "code",
   "execution_count": 34,
   "metadata": {},
   "outputs": [
    {
     "data": {
      "text/plain": [
       "array(['牠', '惡靈古堡6', '歡迎光臨死亡小鎮', '厲陰宅', '恐怖蠟像館', '鬼娃恰吉', '針孔旅社', '鬼關燈',\n",
       "       '陰兒房', '我的殭屍女兒', '末日z戰', '安娜貝爾', '沉默之丘', '母侵', '鬼入鏡', '辣得要命', '孤兒怨',\n",
       "       '28周毀滅倒數', '魔山', '屍速列車', '血紅帽', '活人生吃', '海底總動員', '腦筋急轉彎', '動物方程市',\n",
       "       '玩具總動員', '冰雪奇緣', '魔髮奇緣', '功夫熊貓', '天外奇蹟', '料理鼠王', '馴龍高手', '汽車總動員',\n",
       "       '怪獸電力公司', '小小兵', '馬達加斯加', '史瑞克', '瓦力', '尖叫旅社', '崖上的波妞', '魔法公主',\n",
       "       '龍貓', '神隱少女', '貓的報恩', '魔女宅急便', '101忠狗', '獅子王', '借物少女艾莉提', '分裂',\n",
       "       '逃出絕命鎮', '控制', '迷霧驚魂', '奪魂鋸 ', '絕命終結站', '人形蜈蚣', '黑天鵝', '非禮勿弒',\n",
       "       '星際效應', '星際異攻隊', '雲端情人', '極樂世界', '魔鬼終結者', '第五元素', '第四類接觸', '鐘點戰',\n",
       "       '全面啟動', '千鈞一髮', '明日邊界', '超完美嬌妻', '星際過客', '變人', '樂來樂愛你', '曼哈頓練習曲',\n",
       "       '曼哈頓奇緣', '搖滾教室', '髮膠明星夢', 'K 歌情人', '歌喉讚', '修女也瘋狂', '芝加哥', '紅磨坊',\n",
       "       '歌舞青春', '放牛班的春天', '悲慘世界', 'In to the woods', '夢幻女郎', '舞孃俱樂部',\n",
       "       'Mama mia', '走音天后', '歌劇魅影', '鑼鼓喧天', '真善美', '窈窕淑女', '美女與野獸',\n",
       "       '剪刀手愛德華', '三個傻瓜', '海上鋼琴師', '在深夜加油站遇見蘇格拉底', '心靈捕手', '忠犬小八', '楚門的世界',\n",
       "       '天生一對', '沒問題先生', '姊姊的守護者', '一路玩到掛', '型男飛行日誌', '美味關係', '逆轉人生',\n",
       "       '我的名字叫可汗', '金棧花大酒店', '醉後大丈夫', '阿公歐買尬', '永不妥協', '姐妹', '關鍵少數', '攻其不備',\n",
       "       '活個痛快', '第六感生死緣', '美夢成真', '我與我的冠軍女兒', '馬利與我', '打不倒的勇者', '盧安達飯店',\n",
       "       '十二怒漢', '珍珠港', '大亨小傳', '阿甘正傳', '美麗心靈', '伊莉莎白女皇', '模仿遊戲', '逆轉人生',\n",
       "       '高年級實習生', '鐵娘子', '極速追殺令', '戀愛沒有假期', '婦仇者聯盟', '愛情藥不藥', '真愛繞圈圈',\n",
       "       '他其實沒那麼喜歡你', '傲慢與偏見', '鐵達尼號', '航站情緣', '穿著Prada的惡魔', '全民情聖', '麻雀變鳳凰',\n",
       "       '麻雀變公主', '暮光之城', '第六感生死戀', '手札情緣', 'p.s. 我愛你', '特務愛很大', '27件禮服的秘密',\n",
       "       '好孕臨門', '破處女王', '麻辣女王', '戀夏五百日', '公主與狩獵者', '斷背山', '蜜糖第一名', '門當父不對',\n",
       "       '電子情書', '好友萬萬睡', '愛情限時簽', '少年 pi 的奇幻旅程', '班傑明的奇幻旅程', '阿凡達', '星塵傳奇',\n",
       "       '羊男的迷宮', '艾蜜莉與她的異想世界', '黑魔女', '魔法師的學徒', '神鬼奇航', '哈利波特', '博物館驚魂夜',\n",
       "       '凡赫辛', '吹夢巨人', '魔境夢遊', '波斯王子：時之刃', '第七傳人', '魔戒(2001)', '北極特快車',\n",
       "       '明日世界', '巧克力冒險工廠', '蘇西的世界', '王牌天神', '命運好好玩', '怪奇孤兒院', '聖誕夜怪談',\n",
       "       '魔法靈貓', '神鬼奇航', '達文西密碼', '華爾街之狼', '亞果出任務', '魔球', '明天過後', '白宮末日',\n",
       "       '不可能的任務', '特務間諜', '史密斯夫婦', '金牌特務', '奪天書', '瞞天過海', '麻辣間諜', '蜘蛛人',\n",
       "       '自殺突擊隊', '猩球崛起', '變形金剛', '驚奇四超人(2015)', 'X戰警', '玩命關頭', '特務行不行',\n",
       "       '特勤沙龍', '香水', '特洛伊木馬屠城', '第六感追緝令', '古墓奇兵', '刀鋒戰士', '透明人', '竊資達人',\n",
       "       '神鬼獵人', '出神入化', '國家寶藏', '美國狙擊手', '搶救雷恩大兵', '鋼鐵英雄', '怒火特攻隊', '憤怒麥斯',\n",
       "       '月光下的藍色男孩', '海邊的曼徹斯特', '異星入境', '進擊的鼓手', '鳥人', '歡迎來到布達佩斯大飯店', '驚爆焦點',\n",
       "       '2012', 'ID4星際終結者', '世界末日', '世界大戰', 'I, Robot', '全民超人', '我是傳奇',\n",
       "       '史密斯任務', '夏洛克福爾摩斯', '300壯士', '鬥陣俱樂部', '黑色追緝令', '黑暗騎士', '綠色奇蹟',\n",
       "       '刺激1995', '駭客任務', '沈默的羔羊', '七宗罪', '神鬼戰士', '神鬼第六感', '七夜怪談西洋篇',\n",
       "       '顫慄黑影', '沈默之丘', '陰兒房2', '陰兒房3', 'Sinister', '厲陰宅2', 'Mama',\n",
       "       'Gok-seong', 'Do-ga-ni', 'Gwoemul', '失控隧道', '我看見惡魔', '天賜之女', '大叔',\n",
       "       'Seoulyeok', 'Gamgi', 'Amsal', 'The VVitch: A New-England Folktale',\n",
       "       \"Don't Breathe\", 'The VVitch: A New-England Folktale'],\n",
       "      dtype='<U34')"
      ]
     },
     "execution_count": 34,
     "metadata": {},
     "output_type": "execute_result"
    }
   ],
   "source": [
    "movie_names"
   ]
  },
  {
   "cell_type": "code",
   "execution_count": 21,
   "metadata": {},
   "outputs": [],
   "source": [
    "def tokenize_doc(doc):\n",
    "    stopWords = set(stopwords.words('english'))\n",
    "    ps = nltk.stem.PorterStemmer()\n",
    "    tokenizer = nltk.tokenize.RegexpTokenizer(r'[a-zA-Z]+')\n",
    "    sentence = \"\"\n",
    "    words = tokenizer.tokenize(doc)\n",
    "    for w in words:\n",
    "        temp = str(ps.stem(w.lower()))\n",
    "#         if temp not in stopWords:\n",
    "        sentence += temp + \" \"\n",
    "    return sentence"
   ]
  },
  {
   "cell_type": "code",
   "execution_count": 22,
   "metadata": {},
   "outputs": [],
   "source": [
    "train_intro = []\n",
    "train_story = []\n",
    "for i in range(movie_size):\n",
    "    s_long_intro = tokenize_doc(movie_long_intro[i])\n",
    "    train_intro.append(s_long_intro)\n",
    "    s_story = tokenize_doc(movie_story[i])\n",
    "    train_story.append(s_story)"
   ]
  },
  {
   "cell_type": "code",
   "execution_count": 17,
   "metadata": {},
   "outputs": [],
   "source": [
    "tokenizer = Tokenizer(num_words=MAX_NUM_WORDS)\n",
    "tokenizer.fit_on_texts(np.concatenate((train_intro, train_story)))"
   ]
  },
  {
   "cell_type": "code",
   "execution_count": 23,
   "metadata": {},
   "outputs": [],
   "source": [
    "intro_sequences = tokenizer.texts_to_sequences(train_intro)\n",
    "intro_matrix = tokenizer.sequences_to_matrix(intro_sequences, mode='count')\n",
    "# for i in range(movie_size):\n",
    "#     intro_matrix[i] /= np.sum(intro_matrix[i])\n",
    "intro_matrix /= np.max(intro_matrix)\n",
    "story_sequences = tokenizer.texts_to_sequences(train_story)\n",
    "story_matrix = tokenizer.sequences_to_matrix(story_sequences, mode='count')\n",
    "# for i in range(movie_size):\n",
    "#     story_matrix[i] /= np.sum(story_matrix[i])\n",
    "story_matrix /= np.max(story_matrix)\n",
    "# all_matrix = intro_matrix + story_matrix\n",
    "# for i in range(movie_size):\n",
    "#     all_matrix[i] /= np.sum(all_matrix[i])"
   ]
  },
  {
   "cell_type": "code",
   "execution_count": 24,
   "metadata": {},
   "outputs": [],
   "source": [
    "x_train = story_matrix\n",
    "# x_train = all_matrix"
   ]
  },
  {
   "cell_type": "code",
   "execution_count": 19,
   "metadata": {},
   "outputs": [],
   "source": [
    "latent_dim = 128"
   ]
  },
  {
   "cell_type": "code",
   "execution_count": 20,
   "metadata": {},
   "outputs": [],
   "source": [
    "inputs = Input(shape=(MAX_NUM_WORDS,))\n",
    "encoded = Dense(512, activation='selu')(inputs)\n",
    "encoded = Dense(256, activation='selu')(encoded)\n",
    "# encoded = Dense(128, activation='selu')(encoded)\n",
    "encoded = Dense(latent_dim, activation='selu')(encoded)\n",
    "encoder = Model(inputs, encoded)\n",
    "\n",
    "decoded = Dense(256, activation='selu')(encoded)\n",
    "# decoded = Dense(256, activation='selu')(decoded)\n",
    "decoded = Dense(512, activation='selu')(decoded)\n",
    "decoded = Dense(MAX_NUM_WORDS, activation='sigmoid')(decoded)\n",
    "autoencoder = Model(inputs, decoded)"
   ]
  },
  {
   "cell_type": "code",
   "execution_count": 61,
   "metadata": {},
   "outputs": [],
   "source": [
    "callbacks = []\n",
    "callbacks.append(ModelCheckpoint('model_selu.h5', monitor='loss', \n",
    "                                 save_best_only=True, period=1))\n",
    "callbacks.append(EarlyStopping(monitor='loss', patience=5))\n",
    "autoencoder.compile(loss='binary_crossentropy', optimizer='adadelta', metrics=['accuracy'])\n",
    "autoencoder.fit(x_train, x_train, epochs=1000, batch_size=10, callbacks=callbacks)"
   ]
  },
  {
   "cell_type": "code",
   "execution_count": 25,
   "metadata": {
    "scrolled": true
   },
   "outputs": [
    {
     "name": "stdout",
     "output_type": "stream",
     "text": [
      "_________________________________________________________________\n",
      "Layer (type)                 Output Shape              Param #   \n",
      "=================================================================\n",
      "input_1 (InputLayer)         (None, 2000)              0         \n",
      "_________________________________________________________________\n",
      "dense_1 (Dense)              (None, 256)               512256    \n",
      "_________________________________________________________________\n",
      "batch_normalization_1 (Batch (None, 256)               1024      \n",
      "_________________________________________________________________\n",
      "dropout_1 (Dropout)          (None, 256)               0         \n",
      "_________________________________________________________________\n",
      "dense_2 (Dense)              (None, 128)               32896     \n",
      "_________________________________________________________________\n",
      "batch_normalization_2 (Batch (None, 128)               512       \n",
      "_________________________________________________________________\n",
      "dropout_2 (Dropout)          (None, 128)               0         \n",
      "_________________________________________________________________\n",
      "dense_3 (Dense)              (None, 64)                8256      \n",
      "_________________________________________________________________\n",
      "batch_normalization_3 (Batch (None, 64)                256       \n",
      "_________________________________________________________________\n",
      "dropout_3 (Dropout)          (None, 64)                0         \n",
      "_________________________________________________________________\n",
      "dense_4 (Dense)              (None, 20)                1300      \n",
      "_________________________________________________________________\n",
      "dense_5 (Dense)              (None, 64)                1344      \n",
      "_________________________________________________________________\n",
      "batch_normalization_4 (Batch (None, 64)                256       \n",
      "_________________________________________________________________\n",
      "dropout_4 (Dropout)          (None, 64)                0         \n",
      "_________________________________________________________________\n",
      "dense_6 (Dense)              (None, 128)               8320      \n",
      "_________________________________________________________________\n",
      "batch_normalization_5 (Batch (None, 128)               512       \n",
      "_________________________________________________________________\n",
      "dropout_5 (Dropout)          (None, 128)               0         \n",
      "_________________________________________________________________\n",
      "dense_7 (Dense)              (None, 256)               33024     \n",
      "_________________________________________________________________\n",
      "batch_normalization_6 (Batch (None, 256)               1024      \n",
      "_________________________________________________________________\n",
      "dropout_6 (Dropout)          (None, 256)               0         \n",
      "_________________________________________________________________\n",
      "dense_8 (Dense)              (None, 2000)              514000    \n",
      "=================================================================\n",
      "Total params: 1,114,980\n",
      "Trainable params: 1,113,188\n",
      "Non-trainable params: 1,792\n",
      "_________________________________________________________________\n"
     ]
    }
   ],
   "source": [
    "aut = load_model('model_new.h5')\n",
    "aut.summary()"
   ]
  },
  {
   "cell_type": "code",
   "execution_count": 26,
   "metadata": {},
   "outputs": [],
   "source": [
    "f = K.function([aut.layers[0].input, K.learning_phase()], [aut.layers[10].output])"
   ]
  },
  {
   "cell_type": "code",
   "execution_count": 27,
   "metadata": {},
   "outputs": [],
   "source": [
    "eval_size = len(x_train)"
   ]
  },
  {
   "cell_type": "code",
   "execution_count": 28,
   "metadata": {},
   "outputs": [],
   "source": [
    "from sklearn.manifold import TSNE\n",
    "X = []\n",
    "for i in range(eval_size):\n",
    "    temp = f([x_train[i].reshape(1,MAX_NUM_WORDS), 0])[0]\n",
    "    X.append(temp[0])\n",
    "X = np.array(X)"
   ]
  },
  {
   "cell_type": "code",
   "execution_count": 29,
   "metadata": {},
   "outputs": [],
   "source": [
    "temp_cate = np.load('new_cate.npy')"
   ]
  },
  {
   "cell_type": "code",
   "execution_count": 30,
   "metadata": {},
   "outputs": [],
   "source": [
    "X = np.concatenate((X, temp_cate), axis=1)\n",
    "# X = movie_cate"
   ]
  },
  {
   "cell_type": "code",
   "execution_count": 31,
   "metadata": {},
   "outputs": [],
   "source": [
    "np.save('new_X', X)"
   ]
  },
  {
   "cell_type": "code",
   "execution_count": 71,
   "metadata": {},
   "outputs": [
    {
     "name": "stdout",
     "output_type": "stream",
     "text": [
      "Computing t-SNE embedding\n"
     ]
    }
   ],
   "source": [
    "import matplotlib.pyplot as plt\n",
    "# t-SNE embedding of the digits dataset\n",
    "print(\"Computing t-SNE embedding\")           \n",
    "tsne = TSNE(n_components=2, init='pca', random_state=0)\n",
    "X_tsne = tsne.fit_transform(X)"
   ]
  },
  {
   "cell_type": "code",
   "execution_count": 72,
   "metadata": {},
   "outputs": [
    {
     "data": {
      "image/png": "[encoded data removed]",
      "text/plain": [
       "<matplotlib.figure.Figure at 0x20323b6fcf8>"
      ]
     },
     "metadata": {},
     "output_type": "display_data"
    }
   ],
   "source": [
    "plt.scatter(X_tsne[:, 0], X_tsne[:, 1])\n",
    "plt.show()"
   ]
  },
  {
   "cell_type": "code",
   "execution_count": 63,
   "metadata": {},
   "outputs": [],
   "source": [
    "clusters = 5\n",
    "from sklearn.cluster import KMeans\n",
    "kmeans = KMeans(n_clusters=clusters, random_state=0).fit(X)"
   ]
  },
  {
   "cell_type": "code",
   "execution_count": 64,
   "metadata": {},
   "outputs": [],
   "source": [
    "movie_classes = [[] for i in range(clusters)]\n",
    "for i in range(clusters):\n",
    "    c_movies = np.argwhere(kmeans.labels_==i).flatten()\n",
    "    for m in c_movies:\n",
    "        movie_classes[i].append(movie_names[m])"
   ]
  },
  {
   "cell_type": "code",
   "execution_count": 65,
   "metadata": {
    "scrolled": true
   },
   "outputs": [
    {
     "data": {
      "image/png": "[encoded data removed]",
      "text/plain": [
       "<matplotlib.figure.Figure at 0x20323a48c50>"
      ]
     },
     "metadata": {},
     "output_type": "display_data"
    }
   ],
   "source": [
    "colors = ['#FFB7DD', '#FFBB66', '#FFFF33', '#BBFF00', '#CC0000', '#33CCFF', '#9999FF',\n",
    "'#00AA55', '#E8CCFF', '#770077', '#FF7744', '#DDDDDD', '#444444']\n",
    "labels = np.arange(0, clusters)\n",
    "for i in range(clusters):\n",
    "    idx = np.argwhere(kmeans.labels_==i)\n",
    "    plt.scatter(X_tsne[idx, 0], X_tsne[idx, 1], c=colors[i], label=str(labels[i]))\n",
    "plt.legend()\n",
    "plt.show()"
   ]
  },
  {
   "cell_type": "code",
   "execution_count": 32,
   "metadata": {},
   "outputs": [],
   "source": [
    "def get_recommend(movie_id):\n",
    "    movie_vec = X[movie_id]\n",
    "    scores = []\n",
    "    for i in range(movie_size):\n",
    "        score = cosine_similarity(movie_vec.reshape(1, -1), X[i].reshape(1, -1))\n",
    "        scores.append(score[0])\n",
    "    rank_names = np.argsort(np.array(scores).flatten())\n",
    "    rank_scores = np.sort(np.array(scores).flatten())\n",
    "    return movie_names[rank_names[-20:]], rank_scores[-20:]"
   ]
  },
  {
   "cell_type": "code",
   "execution_count": 66,
   "metadata": {},
   "outputs": [],
   "source": [
    "# np.save('X', X)\n",
    "# np.save('movie_names', movie_names)"
   ]
  },
  {
   "cell_type": "code",
   "execution_count": 33,
   "metadata": {},
   "outputs": [
    {
     "data": {
      "text/plain": [
       "(array(['神鬼第六感', '七夜怪談西洋篇', '安娜貝爾', '星際效應', '陰兒房', '驚爆焦點', '控制', '海邊的曼徹斯特',\n",
       "        '牠', '迷霧驚魂', '夏洛克福爾摩斯', '厲陰宅2', '駭客任務', '黑暗騎士', '黑天鵝', '陰兒房2',\n",
       "        '沉默之丘', '沈默之丘', '逃出絕命鎮', '孤兒怨'],\n",
       "       dtype='<U34'),\n",
       " array([ 0.66652861,  0.66652861,  0.6688455 ,  0.66965351,  0.67039613,\n",
       "         0.67281031,  0.68109614,  0.69089165,  0.70393102,  0.71286764,\n",
       "         0.71468233,  0.72343791,  0.73240496,  0.73321909,  0.73330797,\n",
       "         0.7941528 ,  0.79523063,  0.79523063,  0.8341803 ,  1.        ]))"
      ]
     },
     "execution_count": 33,
     "metadata": {},
     "output_type": "execute_result"
    }
   ],
   "source": [
    "get_recommend(16)"
   ]
  },
  {
   "cell_type": "code",
   "execution_count": null,
   "metadata": {},
   "outputs": [],
   "source": []
  }
 ],
 "metadata": {
  "kernelspec": {
   "display_name": "Python 3",
   "language": "python",
   "name": "python3"
  },
  "language_info": {
   "codemirror_mode": {
    "name": "ipython",
    "version": 3
   },
   "file_extension": ".py",
   "mimetype": "text/x-python",
   "name": "python",
   "nbconvert_exporter": "python",
   "pygments_lexer": "ipython3",
   "version": "3.6.3"
  }
 },
 "nbformat": 4,
 "nbformat_minor": 2
}
