{
 "cells": [
  {
   "cell_type": "code",
   "execution_count": 2,
   "metadata": {},
   "outputs": [],
   "source": [
    "import numpy as np\n",
    "from sklearn.metrics.pairwise import cosine_similarity\n",
    "import tkinter as tk"
   ]
  },
  {
   "cell_type": "code",
   "execution_count": 5,
   "metadata": {},
   "outputs": [],
   "source": [
    "X = np.load('X.npy')\n",
    "movie_names = np.load('movie_names.npy')\n",
    "movie_size = len(X)"
   ]
  },
  {
   "cell_type": "code",
   "execution_count": 82,
   "metadata": {},
   "outputs": [
    {
     "data": {
      "text/plain": [
       "True"
      ]
     },
     "execution_count": 82,
     "metadata": {},
     "output_type": "execute_result"
    }
   ],
   "source": [
    "'牠'in movie_names"
   ]
  },
  {
   "cell_type": "code",
   "execution_count": 85,
   "metadata": {},
   "outputs": [],
   "source": [
    "def get_recommend():\n",
    "    count = 2\n",
    "    movie = entry1.get()\n",
    "    if movie not in movie_names:\n",
    "        label = tk.Label(win, text=\"找不到這部電影\", font=('Arial', 12))\n",
    "        label.grid(row=count, column=0, columnspan=2)\n",
    "        return\n",
    "    movie_id = np.where(movie_names == movie)[0][0]\n",
    "    movie_vec = X[movie_id]\n",
    "    scores = []\n",
    "    for i in range(movie_size):\n",
    "        score = cosine_similarity(movie_vec.reshape(1, -1), X[i].reshape(1, -1))\n",
    "        scores.append(score[0])\n",
    "    rank_names = np.argsort(np.array(scores).flatten())\n",
    "    rank_scores = np.sort(np.array(scores).flatten())\n",
    "    for label in win.grid_slaves():\n",
    "        if int(label.grid_info()['row']) > 1:\n",
    "            label.grid_forget()\n",
    "    for name in movie_names[rank_names[-4:-1]]:\n",
    "        label = tk.Label(win, text=name, font=('Arial', 12))\n",
    "        label.grid(row=count, column=0, columnspan=2)\n",
    "        count += 1\n",
    "    return"
   ]
  },
  {
   "cell_type": "code",
   "execution_count": 87,
   "metadata": {},
   "outputs": [],
   "source": [
    "win = tk.Tk()\n",
    "win.title('電影推薦系統')\n",
    "win.geometry('300x300+500+300')\n",
    "label1 = tk.Label(win, text=\"電影名稱：\", font=('Arial', 12), width=12, height=2) \n",
    "label1.grid(row=0, column=0, padx=10, pady=15)\n",
    "entry1 = tk.Entry(win)\n",
    "entry1.grid(row=0, column=1, padx=10, pady=15)\n",
    "movie = entry1.get()\n",
    "button = tk.Button(win, text='Search', command=get_recommend).grid(row=1, column=0, columnspan=2, pady=10)\n",
    "label1 = tk.Label(win, text=\"推薦結果：\", font=('Arial', 12), width=12, height=2) \n",
    "label1.grid(row=2, column=0, padx=10, pady=15)\n",
    "win.mainloop()"
   ]
  },
  {
   "cell_type": "code",
   "execution_count": null,
   "metadata": {},
   "outputs": [],
   "source": []
  }
 ],
 "metadata": {
  "kernelspec": {
   "display_name": "Python 3",
   "language": "python",
   "name": "python3"
  },
  "language_info": {
   "codemirror_mode": {
    "name": "ipython",
    "version": 3
   },
   "file_extension": ".py",
   "mimetype": "text/x-python",
   "name": "python",
   "nbconvert_exporter": "python",
   "pygments_lexer": "ipython3",
   "version": "3.6.3"
  }
 },
 "nbformat": 4,
 "nbformat_minor": 2
}
