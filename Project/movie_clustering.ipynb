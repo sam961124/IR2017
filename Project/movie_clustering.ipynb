{
 "cells": [
  {
   "cell_type": "code",
   "execution_count": 1,
   "metadata": {},
   "outputs": [
    {
     "name": "stderr",
     "output_type": "stream",
     "text": [
      "Using TensorFlow backend.\n"
     ]
    }
   ],
   "source": [
    "from keras import backend as K\n",
    "from keras.layers import Input, LSTM, RepeatVector, Embedding, TimeDistributed, Dense\n",
    "from keras.layers import Dropout, BatchNormalization\n",
    "from keras.models import Model, Sequential\n",
    "from keras.preprocessing.text import Tokenizer, text_to_word_sequence\n",
    "from keras.preprocessing.sequence import pad_sequences\n",
    "from keras.callbacks import EarlyStopping, ModelCheckpoint\n",
    "import h5py\n",
    "from keras.models import load_model\n",
    "import numpy as np\n",
    "import pandas as pd\n",
    "import nltk\n",
    "from nltk.corpus import stopwords"
   ]
  },
  {
   "cell_type": "code",
   "execution_count": 2,
   "metadata": {
    "collapsed": true
   },
   "outputs": [],
   "source": [
    "doc_path = 'movieContent.csv'\n",
    "review_path = 'imdbReview.csv'\n",
    "MAX_NUM_WORDS = 7000\n",
    "movie_size = 250"
   ]
  },
  {
   "cell_type": "code",
   "execution_count": 3,
   "metadata": {},
   "outputs": [],
   "source": [
    "review_header = ['ID', '1', '2', '3', '4', '5', '6', '7', '8', '9', '10']\n",
    "doc_file = pd.read_csv(doc_path, encoding='cp950')\n",
    "review_file = pd.read_csv(review_path, encoding='latin_1', names=review_header)"
   ]
  },
  {
   "cell_type": "code",
   "execution_count": 4,
   "metadata": {},
   "outputs": [],
   "source": [
    "review_file = review_file.drop(['ID'], axis=1)\n",
    "review_data = review_file.values"
   ]
  },
  {
   "cell_type": "code",
   "execution_count": 7,
   "metadata": {},
   "outputs": [],
   "source": [
    "all_comment = [[] for i in range(movie_size)]\n",
    "for i in range(movie_size):\n",
    "    for j in range(10):\n",
    "        all_comment[i].append(review_data[i][j])\n",
    "all_comment = np.array(all_comment, dtype=str)\n",
    "all_short_intro = np.array(doc_file['movie_shortIntro'].values, dtype=str)\n",
    "all_long_intro = np.array(doc_file['movie_longIntro'].values, dtype=str)"
   ]
  },
  {
   "cell_type": "code",
   "execution_count": 10,
   "metadata": {},
   "outputs": [],
   "source": [
    "def tokenize_doc(doc):\n",
    "    stopWords = set(stopwords.words('english'))\n",
    "    ps = nltk.stem.PorterStemmer()\n",
    "    tokenizer = nltk.tokenize.RegexpTokenizer(r'[a-zA-Z]+')\n",
    "    sentence = \"\"\n",
    "    words = tokenizer.tokenize(doc)\n",
    "    for w in words:\n",
    "        temp = str(ps.stem(w.lower()))\n",
    "#         if temp not in stopWords:\n",
    "        sentence += temp + \" \"\n",
    "    return sentence"
   ]
  },
  {
   "cell_type": "code",
   "execution_count": 11,
   "metadata": {},
   "outputs": [],
   "source": [
    "train_intro = []\n",
    "train_comment = []\n",
    "for i in range(movie_size):\n",
    "    s_short_intro = tokenize_doc(all_short_intro[i])\n",
    "    s_long_intro = tokenize_doc(all_long_intro[i])\n",
    "    train_intro.append(s_short_intro + s_long_intro)\n",
    "    s_comment = []\n",
    "    for j in range(10):\n",
    "        s_comment.append(tokenize_doc(all_comment[i][j]))\n",
    "    train_comment.append(s_comment)"
   ]
  },
  {
   "cell_type": "code",
   "execution_count": 22,
   "metadata": {},
   "outputs": [],
   "source": [
    "tokenizer = Tokenizer(num_words=MAX_NUM_WORDS)\n",
    "tokenizer.fit_on_texts(np.concatenate((train_intro, np.array(train_comment).flatten())))"
   ]
  },
  {
   "cell_type": "code",
   "execution_count": 29,
   "metadata": {},
   "outputs": [],
   "source": [
    "train_comment = np.array(train_comment)"
   ]
  },
  {
   "cell_type": "code",
   "execution_count": 51,
   "metadata": {},
   "outputs": [],
   "source": [
    "intro_sequences = tokenizer.texts_to_sequences(train_intro)\n",
    "intro_matrix = tokenizer.sequences_to_matrix(intro_sequences, mode='count')\n",
    "intro_matrix /= MAX_NUM_WORDS\n",
    "comment_matrix = []\n",
    "for i in range(10):\n",
    "    temp_sequences = tokenizer.texts_to_sequences(train_comment[:,i])\n",
    "    temp_matrix = tokenizer.sequences_to_matrix(temp_sequences, mode='count')\n",
    "    temp_matrix /= MAX_NUM_WORDS\n",
    "    comment_matrix.append(temp_matrix)\n",
    "comment_matrix = np.array(comment_matrix)"
   ]
  },
  {
   "cell_type": "code",
   "execution_count": 52,
   "metadata": {},
   "outputs": [],
   "source": [
    "np.random.seed(5)\n",
    "indices = np.random.permutation(movie_size)\n",
    "x_train = (np.average(comment_matrix, axis=0) + intro_matrix) / 2\n",
    "x_train = x_train[indices]"
   ]
  },
  {
   "cell_type": "code",
   "execution_count": 68,
   "metadata": {
    "collapsed": true
   },
   "outputs": [],
   "source": [
    "latent_dim = 30\n",
    "dnn_encode = [250, 125, latent_dim]\n",
    "dnn_decode = [250, 500]"
   ]
  },
  {
   "cell_type": "code",
   "execution_count": 69,
   "metadata": {
    "collapsed": true
   },
   "outputs": [],
   "source": [
    "inputs = Input(shape=(MAX_NUM_WORDS,))\n",
    "encoded = Dense(500, activation='relu')(inputs)\n",
    "encoded = BatchNormalization()(encoded)\n",
    "encoded = Dropout(0.3)(encoded)\n",
    "for units in dnn_encode:\n",
    "    encoded = Dense(units, activation='relu')(encoded)\n",
    "    encoded = BatchNormalization()(encoded)\n",
    "    encoded = Dropout(0.3)(encoded)\n",
    "encoder = Model(inputs, encoded)\n",
    "\n",
    "decoded = Dense(125, activation='relu')(encoded)\n",
    "decoded = BatchNormalization()(decoded)\n",
    "decoded = Dropout(0.3)(decoded)\n",
    "for units in dnn_decode:\n",
    "    decoded = Dense(units, activation='relu')(decoded)\n",
    "    decoded = BatchNormalization()(decoded)\n",
    "    decoded = Dropout(0.3)(decoded)\n",
    "decoded = Dense(MAX_NUM_WORDS, activation='softmax')(decoded)\n",
    "autoencoder = Model(inputs, decoded)"
   ]
  },
  {
   "cell_type": "code",
   "execution_count": 70,
   "metadata": {},
   "outputs": [
    {
     "name": "stdout",
     "output_type": "stream",
     "text": [
      "Epoch 1/100\n",
      "250/250 [==============================] - 4s - loss: 0.3096 - acc: 0.0000e+00     \n",
      "Epoch 2/100\n",
      "250/250 [==============================] - 1s - loss: 0.2973 - acc: 0.0120     \n",
      "Epoch 3/100\n",
      "250/250 [==============================] - 1s - loss: 0.2674 - acc: 0.1720     \n",
      "Epoch 4/100\n",
      "250/250 [==============================] - 1s - loss: 0.2413 - acc: 0.4520     \n",
      "Epoch 5/100\n",
      "250/250 [==============================] - 1s - loss: 0.2354 - acc: 0.7440     \n",
      "Epoch 6/100\n",
      "250/250 [==============================] - 1s - loss: 0.2343 - acc: 0.8120     \n",
      "Epoch 7/100\n",
      "250/250 [==============================] - 1s - loss: 0.2342 - acc: 0.7960     \n",
      "Epoch 8/100\n",
      "250/250 [==============================] - 1s - loss: 0.2336 - acc: 0.8800     \n",
      "Epoch 9/100\n",
      "250/250 [==============================] - 1s - loss: 0.2330 - acc: 0.8840     \n",
      "Epoch 10/100\n",
      "250/250 [==============================] - 0s - loss: 0.2332 - acc: 0.9480     \n",
      "Epoch 11/100\n",
      "250/250 [==============================] - 1s - loss: 0.2321 - acc: 0.9600     \n",
      "Epoch 12/100\n",
      "250/250 [==============================] - 0s - loss: 0.2325 - acc: 0.9680     \n",
      "Epoch 13/100\n",
      "250/250 [==============================] - 0s - loss: 0.2323 - acc: 0.9840     \n",
      "Epoch 14/100\n",
      "250/250 [==============================] - 1s - loss: 0.2320 - acc: 0.9840     \n",
      "Epoch 15/100\n",
      "250/250 [==============================] - 0s - loss: 0.2328 - acc: 0.9760     \n",
      "Epoch 16/100\n",
      "250/250 [==============================] - 0s - loss: 0.2323 - acc: 0.9840     \n",
      "Epoch 17/100\n",
      "250/250 [==============================] - 1s - loss: 0.2318 - acc: 0.9840     \n",
      "Epoch 18/100\n",
      "250/250 [==============================] - 0s - loss: 0.2321 - acc: 0.9880     \n",
      "Epoch 19/100\n",
      "250/250 [==============================] - 0s - loss: 0.2323 - acc: 0.9840     \n",
      "Epoch 20/100\n",
      "250/250 [==============================] - 1s - loss: 0.2315 - acc: 0.9880     \n",
      "Epoch 21/100\n",
      "250/250 [==============================] - 1s - loss: 0.2314 - acc: 0.9880     \n",
      "Epoch 22/100\n",
      "250/250 [==============================] - 0s - loss: 0.2315 - acc: 0.9880     \n",
      "Epoch 23/100\n",
      "250/250 [==============================] - 1s - loss: 0.2314 - acc: 0.9880     \n",
      "Epoch 24/100\n",
      "250/250 [==============================] - 1s - loss: 0.2311 - acc: 0.9880     \n",
      "Epoch 25/100\n",
      "250/250 [==============================] - 0s - loss: 0.2311 - acc: 0.9880     \n",
      "Epoch 26/100\n",
      "250/250 [==============================] - 0s - loss: 0.2314 - acc: 0.9880     \n",
      "Epoch 27/100\n",
      "250/250 [==============================] - 1s - loss: 0.2310 - acc: 0.9880     \n",
      "Epoch 28/100\n",
      "250/250 [==============================] - 0s - loss: 0.2314 - acc: 0.9880     \n",
      "Epoch 29/100\n",
      "250/250 [==============================] - 1s - loss: 0.2309 - acc: 0.9880     \n",
      "Epoch 30/100\n",
      "250/250 [==============================] - 0s - loss: 0.2311 - acc: 0.9880     \n",
      "Epoch 31/100\n",
      "250/250 [==============================] - 0s - loss: 0.2313 - acc: 0.9880     \n",
      "Epoch 32/100\n",
      "250/250 [==============================] - 0s - loss: 0.2310 - acc: 0.9880     \n",
      "Epoch 33/100\n",
      "250/250 [==============================] - 1s - loss: 0.2307 - acc: 0.9880     \n",
      "Epoch 34/100\n",
      "250/250 [==============================] - 1s - loss: 0.2304 - acc: 0.9880     \n",
      "Epoch 35/100\n",
      "250/250 [==============================] - 0s - loss: 0.2307 - acc: 0.9880     \n",
      "Epoch 36/100\n",
      "250/250 [==============================] - 0s - loss: 0.2306 - acc: 0.9880     \n",
      "Epoch 37/100\n",
      "250/250 [==============================] - 0s - loss: 0.2307 - acc: 0.9880     \n",
      "Epoch 38/100\n",
      "250/250 [==============================] - 1s - loss: 0.2304 - acc: 0.9880     \n",
      "Epoch 39/100\n",
      "250/250 [==============================] - 0s - loss: 0.2304 - acc: 0.9880     \n",
      "Epoch 40/100\n",
      "250/250 [==============================] - 1s - loss: 0.2303 - acc: 0.9880     \n",
      "Epoch 41/100\n",
      "250/250 [==============================] - 0s - loss: 0.2304 - acc: 0.9880     \n",
      "Epoch 42/100\n",
      "250/250 [==============================] - 0s - loss: 0.2304 - acc: 0.9880     \n",
      "Epoch 43/100\n",
      "250/250 [==============================] - 1s - loss: 0.2303 - acc: 0.9880     \n",
      "Epoch 44/100\n",
      "250/250 [==============================] - 1s - loss: 0.2301 - acc: 0.9880     \n",
      "Epoch 45/100\n",
      "250/250 [==============================] - 1s - loss: 0.2299 - acc: 0.9880     \n",
      "Epoch 46/100\n",
      "250/250 [==============================] - 0s - loss: 0.2299 - acc: 0.9880     \n",
      "Epoch 47/100\n",
      "250/250 [==============================] - 1s - loss: 0.2299 - acc: 0.9880     \n",
      "Epoch 48/100\n",
      "250/250 [==============================] - 1s - loss: 0.2297 - acc: 0.9880     \n",
      "Epoch 49/100\n",
      "250/250 [==============================] - 0s - loss: 0.2298 - acc: 0.9880     \n",
      "Epoch 50/100\n",
      "250/250 [==============================] - 1s - loss: 0.2297 - acc: 0.9880     \n",
      "Epoch 51/100\n",
      "250/250 [==============================] - 1s - loss: 0.2296 - acc: 0.9880     \n",
      "Epoch 52/100\n",
      "250/250 [==============================] - 0s - loss: 0.2298 - acc: 0.9880     \n",
      "Epoch 53/100\n",
      "250/250 [==============================] - 1s - loss: 0.2294 - acc: 0.9880     \n",
      "Epoch 54/100\n",
      "250/250 [==============================] - 0s - loss: 0.2294 - acc: 0.9880     \n",
      "Epoch 55/100\n",
      "250/250 [==============================] - 0s - loss: 0.2294 - acc: 0.9880     \n",
      "Epoch 56/100\n",
      "250/250 [==============================] - 0s - loss: 0.2295 - acc: 0.9880     \n",
      "Epoch 57/100\n",
      "250/250 [==============================] - 0s - loss: 0.2295 - acc: 0.9880     \n",
      "Epoch 58/100\n",
      "250/250 [==============================] - 0s - loss: 0.2295 - acc: 0.9880     \n",
      "Epoch 59/100\n",
      "250/250 [==============================] - 1s - loss: 0.2293 - acc: 0.9880     \n",
      "Epoch 60/100\n",
      " 35/250 [===>..........................] - ETA: 0s - loss: 0.2455 - acc: 1.0000"
     ]
    },
    {
     "ename": "KeyboardInterrupt",
     "evalue": "",
     "output_type": "error",
     "traceback": [
      "\u001b[1;31m---------------------------------------------------------------------------\u001b[0m",
      "\u001b[1;31mKeyboardInterrupt\u001b[0m                         Traceback (most recent call last)",
      "\u001b[1;32m<ipython-input-70-4733eed1f59b>\u001b[0m in \u001b[0;36m<module>\u001b[1;34m()\u001b[0m\n\u001b[0;32m      4\u001b[0m \u001b[0mcallbacks\u001b[0m\u001b[1;33m.\u001b[0m\u001b[0mappend\u001b[0m\u001b[1;33m(\u001b[0m\u001b[0mEarlyStopping\u001b[0m\u001b[1;33m(\u001b[0m\u001b[0mmonitor\u001b[0m\u001b[1;33m=\u001b[0m\u001b[1;34m'loss'\u001b[0m\u001b[1;33m,\u001b[0m \u001b[0mpatience\u001b[0m\u001b[1;33m=\u001b[0m\u001b[1;36m5\u001b[0m\u001b[1;33m)\u001b[0m\u001b[1;33m)\u001b[0m\u001b[1;33m\u001b[0m\u001b[0m\n\u001b[0;32m      5\u001b[0m \u001b[0mautoencoder\u001b[0m\u001b[1;33m.\u001b[0m\u001b[0mcompile\u001b[0m\u001b[1;33m(\u001b[0m\u001b[0mloss\u001b[0m\u001b[1;33m=\u001b[0m\u001b[1;34m'categorical_crossentropy'\u001b[0m\u001b[1;33m,\u001b[0m \u001b[0moptimizer\u001b[0m\u001b[1;33m=\u001b[0m\u001b[1;34m'adam'\u001b[0m\u001b[1;33m,\u001b[0m \u001b[0mmetrics\u001b[0m\u001b[1;33m=\u001b[0m\u001b[1;33m[\u001b[0m\u001b[1;34m'accuracy'\u001b[0m\u001b[1;33m]\u001b[0m\u001b[1;33m)\u001b[0m\u001b[1;33m\u001b[0m\u001b[0m\n\u001b[1;32m----> 6\u001b[1;33m \u001b[0mautoencoder\u001b[0m\u001b[1;33m.\u001b[0m\u001b[0mfit\u001b[0m\u001b[1;33m(\u001b[0m\u001b[0mx_train\u001b[0m\u001b[1;33m,\u001b[0m \u001b[0mx_train\u001b[0m\u001b[1;33m,\u001b[0m \u001b[0mepochs\u001b[0m\u001b[1;33m=\u001b[0m\u001b[1;36m100\u001b[0m\u001b[1;33m,\u001b[0m \u001b[0mbatch_size\u001b[0m\u001b[1;33m=\u001b[0m\u001b[1;36m5\u001b[0m\u001b[1;33m,\u001b[0m \u001b[0mcallbacks\u001b[0m\u001b[1;33m=\u001b[0m\u001b[0mcallbacks\u001b[0m\u001b[1;33m)\u001b[0m\u001b[1;33m\u001b[0m\u001b[0m\n\u001b[0m",
      "\u001b[1;32m~\\Anaconda3\\envs\\tensorflow-gpu\\lib\\site-packages\\keras\\engine\\training.py\u001b[0m in \u001b[0;36mfit\u001b[1;34m(self, x, y, batch_size, epochs, verbose, callbacks, validation_split, validation_data, shuffle, class_weight, sample_weight, initial_epoch, steps_per_epoch, validation_steps, **kwargs)\u001b[0m\n\u001b[0;32m   1596\u001b[0m                               \u001b[0minitial_epoch\u001b[0m\u001b[1;33m=\u001b[0m\u001b[0minitial_epoch\u001b[0m\u001b[1;33m,\u001b[0m\u001b[1;33m\u001b[0m\u001b[0m\n\u001b[0;32m   1597\u001b[0m                               \u001b[0msteps_per_epoch\u001b[0m\u001b[1;33m=\u001b[0m\u001b[0msteps_per_epoch\u001b[0m\u001b[1;33m,\u001b[0m\u001b[1;33m\u001b[0m\u001b[0m\n\u001b[1;32m-> 1598\u001b[1;33m                               validation_steps=validation_steps)\n\u001b[0m\u001b[0;32m   1599\u001b[0m \u001b[1;33m\u001b[0m\u001b[0m\n\u001b[0;32m   1600\u001b[0m     def evaluate(self, x, y,\n",
      "\u001b[1;32m~\\Anaconda3\\envs\\tensorflow-gpu\\lib\\site-packages\\keras\\engine\\training.py\u001b[0m in \u001b[0;36m_fit_loop\u001b[1;34m(self, f, ins, out_labels, batch_size, epochs, verbose, callbacks, val_f, val_ins, shuffle, callback_metrics, initial_epoch, steps_per_epoch, validation_steps)\u001b[0m\n\u001b[0;32m   1181\u001b[0m                     \u001b[0mbatch_logs\u001b[0m\u001b[1;33m[\u001b[0m\u001b[1;34m'size'\u001b[0m\u001b[1;33m]\u001b[0m \u001b[1;33m=\u001b[0m \u001b[0mlen\u001b[0m\u001b[1;33m(\u001b[0m\u001b[0mbatch_ids\u001b[0m\u001b[1;33m)\u001b[0m\u001b[1;33m\u001b[0m\u001b[0m\n\u001b[0;32m   1182\u001b[0m                     \u001b[0mcallbacks\u001b[0m\u001b[1;33m.\u001b[0m\u001b[0mon_batch_begin\u001b[0m\u001b[1;33m(\u001b[0m\u001b[0mbatch_index\u001b[0m\u001b[1;33m,\u001b[0m \u001b[0mbatch_logs\u001b[0m\u001b[1;33m)\u001b[0m\u001b[1;33m\u001b[0m\u001b[0m\n\u001b[1;32m-> 1183\u001b[1;33m                     \u001b[0mouts\u001b[0m \u001b[1;33m=\u001b[0m \u001b[0mf\u001b[0m\u001b[1;33m(\u001b[0m\u001b[0mins_batch\u001b[0m\u001b[1;33m)\u001b[0m\u001b[1;33m\u001b[0m\u001b[0m\n\u001b[0m\u001b[0;32m   1184\u001b[0m                     \u001b[1;32mif\u001b[0m \u001b[1;32mnot\u001b[0m \u001b[0misinstance\u001b[0m\u001b[1;33m(\u001b[0m\u001b[0mouts\u001b[0m\u001b[1;33m,\u001b[0m \u001b[0mlist\u001b[0m\u001b[1;33m)\u001b[0m\u001b[1;33m:\u001b[0m\u001b[1;33m\u001b[0m\u001b[0m\n\u001b[0;32m   1185\u001b[0m                         \u001b[0mouts\u001b[0m \u001b[1;33m=\u001b[0m \u001b[1;33m[\u001b[0m\u001b[0mouts\u001b[0m\u001b[1;33m]\u001b[0m\u001b[1;33m\u001b[0m\u001b[0m\n",
      "\u001b[1;32m~\\Anaconda3\\envs\\tensorflow-gpu\\lib\\site-packages\\keras\\backend\\tensorflow_backend.py\u001b[0m in \u001b[0;36m__call__\u001b[1;34m(self, inputs)\u001b[0m\n\u001b[0;32m   2271\u001b[0m         updated = session.run(self.outputs + [self.updates_op],\n\u001b[0;32m   2272\u001b[0m                               \u001b[0mfeed_dict\u001b[0m\u001b[1;33m=\u001b[0m\u001b[0mfeed_dict\u001b[0m\u001b[1;33m,\u001b[0m\u001b[1;33m\u001b[0m\u001b[0m\n\u001b[1;32m-> 2273\u001b[1;33m                               **self.session_kwargs)\n\u001b[0m\u001b[0;32m   2274\u001b[0m         \u001b[1;32mreturn\u001b[0m \u001b[0mupdated\u001b[0m\u001b[1;33m[\u001b[0m\u001b[1;33m:\u001b[0m\u001b[0mlen\u001b[0m\u001b[1;33m(\u001b[0m\u001b[0mself\u001b[0m\u001b[1;33m.\u001b[0m\u001b[0moutputs\u001b[0m\u001b[1;33m)\u001b[0m\u001b[1;33m]\u001b[0m\u001b[1;33m\u001b[0m\u001b[0m\n\u001b[0;32m   2275\u001b[0m \u001b[1;33m\u001b[0m\u001b[0m\n",
      "\u001b[1;32m~\\Anaconda3\\envs\\tensorflow-gpu\\lib\\site-packages\\tensorflow\\python\\client\\session.py\u001b[0m in \u001b[0;36mrun\u001b[1;34m(self, fetches, feed_dict, options, run_metadata)\u001b[0m\n\u001b[0;32m    893\u001b[0m     \u001b[1;32mtry\u001b[0m\u001b[1;33m:\u001b[0m\u001b[1;33m\u001b[0m\u001b[0m\n\u001b[0;32m    894\u001b[0m       result = self._run(None, fetches, feed_dict, options_ptr,\n\u001b[1;32m--> 895\u001b[1;33m                          run_metadata_ptr)\n\u001b[0m\u001b[0;32m    896\u001b[0m       \u001b[1;32mif\u001b[0m \u001b[0mrun_metadata\u001b[0m\u001b[1;33m:\u001b[0m\u001b[1;33m\u001b[0m\u001b[0m\n\u001b[0;32m    897\u001b[0m         \u001b[0mproto_data\u001b[0m \u001b[1;33m=\u001b[0m \u001b[0mtf_session\u001b[0m\u001b[1;33m.\u001b[0m\u001b[0mTF_GetBuffer\u001b[0m\u001b[1;33m(\u001b[0m\u001b[0mrun_metadata_ptr\u001b[0m\u001b[1;33m)\u001b[0m\u001b[1;33m\u001b[0m\u001b[0m\n",
      "\u001b[1;32m~\\Anaconda3\\envs\\tensorflow-gpu\\lib\\site-packages\\tensorflow\\python\\client\\session.py\u001b[0m in \u001b[0;36m_run\u001b[1;34m(self, handle, fetches, feed_dict, options, run_metadata)\u001b[0m\n\u001b[0;32m   1122\u001b[0m     \u001b[1;32mif\u001b[0m \u001b[0mfinal_fetches\u001b[0m \u001b[1;32mor\u001b[0m \u001b[0mfinal_targets\u001b[0m \u001b[1;32mor\u001b[0m \u001b[1;33m(\u001b[0m\u001b[0mhandle\u001b[0m \u001b[1;32mand\u001b[0m \u001b[0mfeed_dict_tensor\u001b[0m\u001b[1;33m)\u001b[0m\u001b[1;33m:\u001b[0m\u001b[1;33m\u001b[0m\u001b[0m\n\u001b[0;32m   1123\u001b[0m       results = self._do_run(handle, final_targets, final_fetches,\n\u001b[1;32m-> 1124\u001b[1;33m                              feed_dict_tensor, options, run_metadata)\n\u001b[0m\u001b[0;32m   1125\u001b[0m     \u001b[1;32melse\u001b[0m\u001b[1;33m:\u001b[0m\u001b[1;33m\u001b[0m\u001b[0m\n\u001b[0;32m   1126\u001b[0m       \u001b[0mresults\u001b[0m \u001b[1;33m=\u001b[0m \u001b[1;33m[\u001b[0m\u001b[1;33m]\u001b[0m\u001b[1;33m\u001b[0m\u001b[0m\n",
      "\u001b[1;32m~\\Anaconda3\\envs\\tensorflow-gpu\\lib\\site-packages\\tensorflow\\python\\client\\session.py\u001b[0m in \u001b[0;36m_do_run\u001b[1;34m(self, handle, target_list, fetch_list, feed_dict, options, run_metadata)\u001b[0m\n\u001b[0;32m   1319\u001b[0m     \u001b[1;32mif\u001b[0m \u001b[0mhandle\u001b[0m \u001b[1;32mis\u001b[0m \u001b[1;32mNone\u001b[0m\u001b[1;33m:\u001b[0m\u001b[1;33m\u001b[0m\u001b[0m\n\u001b[0;32m   1320\u001b[0m       return self._do_call(_run_fn, self._session, feeds, fetches, targets,\n\u001b[1;32m-> 1321\u001b[1;33m                            options, run_metadata)\n\u001b[0m\u001b[0;32m   1322\u001b[0m     \u001b[1;32melse\u001b[0m\u001b[1;33m:\u001b[0m\u001b[1;33m\u001b[0m\u001b[0m\n\u001b[0;32m   1323\u001b[0m       \u001b[1;32mreturn\u001b[0m \u001b[0mself\u001b[0m\u001b[1;33m.\u001b[0m\u001b[0m_do_call\u001b[0m\u001b[1;33m(\u001b[0m\u001b[0m_prun_fn\u001b[0m\u001b[1;33m,\u001b[0m \u001b[0mself\u001b[0m\u001b[1;33m.\u001b[0m\u001b[0m_session\u001b[0m\u001b[1;33m,\u001b[0m \u001b[0mhandle\u001b[0m\u001b[1;33m,\u001b[0m \u001b[0mfeeds\u001b[0m\u001b[1;33m,\u001b[0m \u001b[0mfetches\u001b[0m\u001b[1;33m)\u001b[0m\u001b[1;33m\u001b[0m\u001b[0m\n",
      "\u001b[1;32m~\\Anaconda3\\envs\\tensorflow-gpu\\lib\\site-packages\\tensorflow\\python\\client\\session.py\u001b[0m in \u001b[0;36m_do_call\u001b[1;34m(self, fn, *args)\u001b[0m\n\u001b[0;32m   1325\u001b[0m   \u001b[1;32mdef\u001b[0m \u001b[0m_do_call\u001b[0m\u001b[1;33m(\u001b[0m\u001b[0mself\u001b[0m\u001b[1;33m,\u001b[0m \u001b[0mfn\u001b[0m\u001b[1;33m,\u001b[0m \u001b[1;33m*\u001b[0m\u001b[0margs\u001b[0m\u001b[1;33m)\u001b[0m\u001b[1;33m:\u001b[0m\u001b[1;33m\u001b[0m\u001b[0m\n\u001b[0;32m   1326\u001b[0m     \u001b[1;32mtry\u001b[0m\u001b[1;33m:\u001b[0m\u001b[1;33m\u001b[0m\u001b[0m\n\u001b[1;32m-> 1327\u001b[1;33m       \u001b[1;32mreturn\u001b[0m \u001b[0mfn\u001b[0m\u001b[1;33m(\u001b[0m\u001b[1;33m*\u001b[0m\u001b[0margs\u001b[0m\u001b[1;33m)\u001b[0m\u001b[1;33m\u001b[0m\u001b[0m\n\u001b[0m\u001b[0;32m   1328\u001b[0m     \u001b[1;32mexcept\u001b[0m \u001b[0merrors\u001b[0m\u001b[1;33m.\u001b[0m\u001b[0mOpError\u001b[0m \u001b[1;32mas\u001b[0m \u001b[0me\u001b[0m\u001b[1;33m:\u001b[0m\u001b[1;33m\u001b[0m\u001b[0m\n\u001b[0;32m   1329\u001b[0m       \u001b[0mmessage\u001b[0m \u001b[1;33m=\u001b[0m \u001b[0mcompat\u001b[0m\u001b[1;33m.\u001b[0m\u001b[0mas_text\u001b[0m\u001b[1;33m(\u001b[0m\u001b[0me\u001b[0m\u001b[1;33m.\u001b[0m\u001b[0mmessage\u001b[0m\u001b[1;33m)\u001b[0m\u001b[1;33m\u001b[0m\u001b[0m\n",
      "\u001b[1;32m~\\Anaconda3\\envs\\tensorflow-gpu\\lib\\site-packages\\tensorflow\\python\\client\\session.py\u001b[0m in \u001b[0;36m_run_fn\u001b[1;34m(session, feed_dict, fetch_list, target_list, options, run_metadata)\u001b[0m\n\u001b[0;32m   1304\u001b[0m           return tf_session.TF_Run(session, options,\n\u001b[0;32m   1305\u001b[0m                                    \u001b[0mfeed_dict\u001b[0m\u001b[1;33m,\u001b[0m \u001b[0mfetch_list\u001b[0m\u001b[1;33m,\u001b[0m \u001b[0mtarget_list\u001b[0m\u001b[1;33m,\u001b[0m\u001b[1;33m\u001b[0m\u001b[0m\n\u001b[1;32m-> 1306\u001b[1;33m                                    status, run_metadata)\n\u001b[0m\u001b[0;32m   1307\u001b[0m \u001b[1;33m\u001b[0m\u001b[0m\n\u001b[0;32m   1308\u001b[0m     \u001b[1;32mdef\u001b[0m \u001b[0m_prun_fn\u001b[0m\u001b[1;33m(\u001b[0m\u001b[0msession\u001b[0m\u001b[1;33m,\u001b[0m \u001b[0mhandle\u001b[0m\u001b[1;33m,\u001b[0m \u001b[0mfeed_dict\u001b[0m\u001b[1;33m,\u001b[0m \u001b[0mfetch_list\u001b[0m\u001b[1;33m)\u001b[0m\u001b[1;33m:\u001b[0m\u001b[1;33m\u001b[0m\u001b[0m\n",
      "\u001b[1;31mKeyboardInterrupt\u001b[0m: "
     ]
    }
   ],
   "source": [
    "callbacks = []\n",
    "callbacks.append(ModelCheckpoint('model_stopword.h5', monitor='loss', \n",
    "                                 save_best_only=True, period=1))\n",
    "callbacks.append(EarlyStopping(monitor='loss', patience=5))\n",
    "autoencoder.compile(loss='categorical_crossentropy', optimizer='adam', metrics=['accuracy'])\n",
    "autoencoder.fit(x_train, x_train, epochs=100, batch_size=5, callbacks=callbacks)"
   ]
  },
  {
   "cell_type": "code",
   "execution_count": 71,
   "metadata": {
    "collapsed": true
   },
   "outputs": [],
   "source": [
    "from sklearn.metrics.pairwise import cosine_similarity"
   ]
  },
  {
   "cell_type": "code",
   "execution_count": 72,
   "metadata": {},
   "outputs": [
    {
     "name": "stdout",
     "output_type": "stream",
     "text": [
      "_________________________________________________________________\n",
      "Layer (type)                 Output Shape              Param #   \n",
      "=================================================================\n",
      "input_5 (InputLayer)         (None, 7000)              0         \n",
      "_________________________________________________________________\n",
      "dense_33 (Dense)             (None, 500)               3500500   \n",
      "_________________________________________________________________\n",
      "batch_normalization_29 (Batc (None, 500)               2000      \n",
      "_________________________________________________________________\n",
      "dropout_29 (Dropout)         (None, 500)               0         \n",
      "_________________________________________________________________\n",
      "dense_34 (Dense)             (None, 250)               125250    \n",
      "_________________________________________________________________\n",
      "batch_normalization_30 (Batc (None, 250)               1000      \n",
      "_________________________________________________________________\n",
      "dropout_30 (Dropout)         (None, 250)               0         \n",
      "_________________________________________________________________\n",
      "dense_35 (Dense)             (None, 125)               31375     \n",
      "_________________________________________________________________\n",
      "batch_normalization_31 (Batc (None, 125)               500       \n",
      "_________________________________________________________________\n",
      "dropout_31 (Dropout)         (None, 125)               0         \n",
      "_________________________________________________________________\n",
      "dense_36 (Dense)             (None, 30)                3780      \n",
      "_________________________________________________________________\n",
      "batch_normalization_32 (Batc (None, 30)                120       \n",
      "_________________________________________________________________\n",
      "dropout_32 (Dropout)         (None, 30)                0         \n",
      "_________________________________________________________________\n",
      "dense_37 (Dense)             (None, 125)               3875      \n",
      "_________________________________________________________________\n",
      "batch_normalization_33 (Batc (None, 125)               500       \n",
      "_________________________________________________________________\n",
      "dropout_33 (Dropout)         (None, 125)               0         \n",
      "_________________________________________________________________\n",
      "dense_38 (Dense)             (None, 250)               31500     \n",
      "_________________________________________________________________\n",
      "batch_normalization_34 (Batc (None, 250)               1000      \n",
      "_________________________________________________________________\n",
      "dropout_34 (Dropout)         (None, 250)               0         \n",
      "_________________________________________________________________\n",
      "dense_39 (Dense)             (None, 500)               125500    \n",
      "_________________________________________________________________\n",
      "batch_normalization_35 (Batc (None, 500)               2000      \n",
      "_________________________________________________________________\n",
      "dropout_35 (Dropout)         (None, 500)               0         \n",
      "_________________________________________________________________\n",
      "dense_40 (Dense)             (None, 7000)              3507000   \n",
      "=================================================================\n",
      "Total params: 7,335,900\n",
      "Trainable params: 7,332,340\n",
      "Non-trainable params: 3,560\n",
      "_________________________________________________________________\n"
     ]
    }
   ],
   "source": [
    "aut = load_model('model_stopword.h5')\n",
    "aut.summary()"
   ]
  },
  {
   "cell_type": "code",
   "execution_count": 73,
   "metadata": {
    "collapsed": true
   },
   "outputs": [],
   "source": [
    "f = K.function([aut.layers[0].input, K.learning_phase()], [aut.layers[10].output])"
   ]
  },
  {
   "cell_type": "code",
   "execution_count": 74,
   "metadata": {
    "collapsed": true
   },
   "outputs": [],
   "source": [
    "from sklearn.manifold import TSNE\n",
    "X = []\n",
    "for i in range(movie_size):\n",
    "    temp = f([x_train[i].reshape(1,MAX_NUM_WORDS), 0])[0]\n",
    "    X.append(temp)\n",
    "X = np.array(X)"
   ]
  },
  {
   "cell_type": "code",
   "execution_count": 75,
   "metadata": {},
   "outputs": [
    {
     "name": "stdout",
     "output_type": "stream",
     "text": [
      "Computing t-SNE embedding\n"
     ]
    }
   ],
   "source": [
    "import matplotlib.pyplot as plt\n",
    "# t-SNE embedding of the digits dataset\n",
    "print(\"Computing t-SNE embedding\")           \n",
    "tsne = TSNE(n_components=2, init='pca', random_state=0)\n",
    "X_tsne = tsne.fit_transform(X.reshape(movie_size, latent_dim))"
   ]
  },
  {
   "cell_type": "code",
   "execution_count": 76,
   "metadata": {},
   "outputs": [
    {
     "data": {
      "image/png": "[encoded data removed]",
      "text/plain": [
       "<matplotlib.figure.Figure at 0x127b7ee6c18>"
      ]
     },
     "metadata": {},
     "output_type": "display_data"
    }
   ],
   "source": [
    "plt.scatter(X_tsne[:, 0], X_tsne[:, 1])\n",
    "plt.show()"
   ]
  },
  {
   "cell_type": "code",
   "execution_count": 83,
   "metadata": {},
   "outputs": [],
   "source": [
    "clusters = 20\n",
    "from sklearn.cluster import KMeans\n",
    "kmeans = KMeans(n_clusters=clusters, random_state=0).fit(X.reshape(movie_size, latent_dim))"
   ]
  },
  {
   "cell_type": "code",
   "execution_count": 84,
   "metadata": {
    "collapsed": true
   },
   "outputs": [],
   "source": [
    "movie_names = np.array(doc_file['movie_name'].values, dtype=str)"
   ]
  },
  {
   "cell_type": "code",
   "execution_count": 88,
   "metadata": {},
   "outputs": [],
   "source": [
    "movie_classes = [[] for i in range(clusters)]\n",
    "for i in range(clusters):\n",
    "    c_movies = np.argwhere(kmeans.labels_==i).flatten()\n",
    "    for m in c_movies:\n",
    "        movie_classes[i].append(movie_names[m])"
   ]
  },
  {
   "cell_type": "code",
   "execution_count": 89,
   "metadata": {},
   "outputs": [
    {
     "data": {
      "image/png": "[encoded data removed]",
      "text/plain": [
       "<matplotlib.figure.Figure at 0x127b80da2b0>"
      ]
     },
     "metadata": {},
     "output_type": "display_data"
    }
   ],
   "source": [
    "colors = ['#FFB7DD', '#FFBB66', '#FFFF33', '#BBFF00', '#CC0000', '#33CCFF', '#9999FF',\n",
    "'#00AA55', '#E8CCFF', '#770077', '#FF7744', '#DDDDDD', '#444444']\n",
    "for i in range(movie_size):\n",
    "    label = kmeans.labels_[i]\n",
    "    c = colors[label]\n",
    "    plt.scatter(X_tsne[i, 0], X_tsne[i, 1], c=c, label=label)\n",
    "plt.show()"
   ]
  },
  {
   "cell_type": "code",
   "execution_count": 81,
   "metadata": {},
   "outputs": [
    {
     "data": {
      "text/plain": [
       "['12 Angry Men?',\n",
       " 'Il buono, il brutto, il cattivo?',\n",
       " 'Fight Club?',\n",
       " 'Se7en',\n",
       " '?Gladiator',\n",
       " 'Hotaru no haka?',\n",
       " 'Oldeuboi',\n",
       " 'Citizen Kane',\n",
       " 'North by Northwest',\n",
       " 'The Treasure of the Sierra Madre',\n",
       " 'Some Like It Hot',\n",
       " 'Der Untergang',\n",
       " 'Die Hard',\n",
       " 'Chinatown',\n",
       " 'Lock, Stock and Two Smoking Barrels',\n",
       " 'A Beautiful Mind?',\n",
       " 'Gran Torino',\n",
       " 'T?ky? monogatari',\n",
       " 'The Deer Hunter',\n",
       " 'The Thing',\n",
       " 'There Will Be Blood',\n",
       " 'Rush?',\n",
       " 'The Message',\n",
       " 'The Maltese Falcon',\n",
       " 'Touch of Evil?',\n",
       " 'The Grapes of Wrath',\n",
       " 'Prisoners?',\n",
       " 'Dog Day Afternoon?',\n",
       " 'The Imitation Game',\n",
       " 'Gangs of Wasseypur']"
      ]
     },
     "execution_count": 81,
     "metadata": {},
     "output_type": "execute_result"
    }
   ],
   "source": [
    "movie_classes[]"
   ]
  },
  {
   "cell_type": "code",
   "execution_count": null,
   "metadata": {
    "collapsed": true
   },
   "outputs": [],
   "source": []
  }
 ],
 "metadata": {
  "kernelspec": {
   "display_name": "Python 3",
   "language": "python",
   "name": "python3"
  },
  "language_info": {
   "codemirror_mode": {
    "name": "ipython",
    "version": 3
   },
   "file_extension": ".py",
   "mimetype": "text/x-python",
   "name": "python",
   "nbconvert_exporter": "python",
   "pygments_lexer": "ipython3",
   "version": "3.6.2"
  }
 },
 "nbformat": 4,
 "nbformat_minor": 2
}
