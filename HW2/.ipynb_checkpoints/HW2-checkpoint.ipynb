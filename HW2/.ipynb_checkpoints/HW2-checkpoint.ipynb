{
 "cells": [
  {
   "cell_type": "code",
   "execution_count": 2,
   "metadata": {},
   "outputs": [],
   "source": [
    "import nltk\n",
    "import nltk.corpus as corpus\n",
    "import numpy as np\n",
    "from collections import Counter\n",
    "import math\n",
    "# get stopwords\n",
    "stopWords = set(corpus.stopwords.words('english'))"
   ]
  },
  {
   "cell_type": "code",
   "execution_count": 2,
   "metadata": {},
   "outputs": [],
   "source": [
    "doc_num = 1095\n",
    "my_dict = {}\n",
    "index_dict = {}\n",
    "doc_words = []\n",
    "doc_path = 'IRTM/'\n",
    "tf_path = 'vector/'"
   ]
  },
  {
   "cell_type": "code",
   "execution_count": 3,
   "metadata": {},
   "outputs": [],
   "source": [
    "# stemming & remove stop words & count df\n",
    "ps = nltk.stem.PorterStemmer()\n",
    "tokenizer = nltk.tokenize.RegexpTokenizer(r'[a-zA-Z]+')\n",
    "for d in range(doc_num):\n",
    "    temp_dict = {}\n",
    "    doc_file = open(doc_path + str(d+1) + '.txt', 'r')\n",
    "    article = doc_file.read()\n",
    "    words = tokenizer.tokenize(article)\n",
    "    for w in words:\n",
    "        temp = str(ps.stem(w.lower()))\n",
    "        if temp not in stopWords:\n",
    "            if temp not in temp_dict:\n",
    "                temp_dict[temp] = 1\n",
    "            else:\n",
    "                 temp_dict[temp] += 1\n",
    "    for k in temp_dict.keys():\n",
    "        if k in my_dict:\n",
    "            my_dict[k] += 1\n",
    "        else:\n",
    "            my_dict[k] = 1\n",
    "    doc_words.append(temp_dict)\n",
    "    doc_file.close()"
   ]
  },
  {
   "cell_type": "code",
   "execution_count": 4,
   "metadata": {},
   "outputs": [],
   "source": [
    "# sort dictionary by keys\n",
    "sorted_dict = [(k, my_dict[k]) for k in sorted(my_dict.keys())]\n",
    "# write dictionary to file\n",
    "dict_file = open('dictionary.txt', 'w')\n",
    "t_index = 1\n",
    "for k, v in sorted_dict:\n",
    "    index_dict[k] = t_index\n",
    "    s = str(t_index) + ' ' + k + ' ' + str(v) + '\\n'\n",
    "    dict_file.write(s)\n",
    "    t_index += 1\n",
    "dict_file.close()"
   ]
  },
  {
   "cell_type": "code",
   "execution_count": 14,
   "metadata": {},
   "outputs": [],
   "source": [
    "for d in range(doc_num):\n",
    "    # get tf\n",
    "    words = doc_words[d]\n",
    "    tf = Counter(words)\n",
    "    tf = [ (index_dict[k] ,tf[k]*math.log(doc_num/my_dict[k], 10)) \n",
    "          for k in sorted(tf.keys())]\n",
    "    \n",
    "    # calculate length for unit vector\n",
    "    v_len = 0\n",
    "    for n in tf:\n",
    "        v_len += n[1]**2\n",
    "    v_len = v_len**0.5\n",
    "    tf = [ (i[0], i[1]/v_len) for i in tf]\n",
    "    \n",
    "    # write files\n",
    "    tf_file = open(tf_path + str(d+1) + '.txt', 'w')\n",
    "    tf_file.write(str(len(tf)) + '\\n')\n",
    "    for n in tf:\n",
    "        s = str(n[0]) + ' ' + str(n[1]) + '\\n'\n",
    "        tf_file.write(s)\n",
    "    tf_file.close()"
   ]
  },
  {
   "cell_type": "code",
   "execution_count": 15,
   "metadata": {},
   "outputs": [],
   "source": [
    "# cosine function\n",
    "def cosine(Docx, Docy):\n",
    "    x_vector = np.zeros(len(my_dict))\n",
    "    y_vector = np.zeros(len(my_dict))\n",
    "    with open(tf_path + str(Docx) + '.txt', 'r') as x_file:\n",
    "        lines = 0\n",
    "        terms = 0\n",
    "        for line in x_file:\n",
    "            if lines != 0:\n",
    "                temp = line.split(' ')\n",
    "                x_vector[int(temp[0])] = float(temp[1])\n",
    "            else:\n",
    "                terms = line\n",
    "            lines += 1\n",
    "    with open(tf_path + str(Docy) + '.txt', 'r') as y_file:\n",
    "        lines = 0\n",
    "        terms = 0\n",
    "        for line in y_file:\n",
    "            if lines != 0:\n",
    "                temp = line.split(' ')\n",
    "                y_vector[int(temp[0])] = float(temp[1])\n",
    "            else:\n",
    "                terms = line\n",
    "            lines += 1\n",
    "    return (x_vector * y_vector).sum()"
   ]
  },
  {
   "cell_type": "code",
   "execution_count": 16,
   "metadata": {},
   "outputs": [
    {
     "name": "stdout",
     "output_type": "stream",
     "text": [
      "0.188265023962\n"
     ]
    }
   ],
   "source": [
    "print(cosine(1, 2))"
   ]
  },
  {
   "cell_type": "code",
   "execution_count": null,
   "metadata": {},
   "outputs": [],
   "source": []
  }
 ],
 "metadata": {
  "kernelspec": {
   "display_name": "IR env",
   "language": "python",
   "name": "env"
  },
  "language_info": {
   "codemirror_mode": {
    "name": "ipython",
    "version": 3
   },
   "file_extension": ".py",
   "mimetype": "text/x-python",
   "name": "python",
   "nbconvert_exporter": "python",
   "pygments_lexer": "ipython3",
   "version": "3.6.2"
  }
 },
 "nbformat": 4,
 "nbformat_minor": 2
}
